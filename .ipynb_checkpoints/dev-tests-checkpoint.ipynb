{
 "cells": [
  {
   "cell_type": "code",
   "execution_count": null,
   "id": "e9985e07",
   "metadata": {},
   "outputs": [],
   "source": []
  },
  {
   "cell_type": "code",
   "execution_count": 249,
   "id": "64390234",
   "metadata": {},
   "outputs": [],
   "source": [
    "import numpy as np\n",
    "import pandas as pd\n",
    "import sympy as sy"
   ]
  },
  {
   "cell_type": "code",
   "execution_count": 109,
   "id": "eceb3763",
   "metadata": {},
   "outputs": [],
   "source": [
    "r, t, p0, g, k = sy.symbols('r, t, p_0, g, k')"
   ]
  },
  {
   "cell_type": "code",
   "execution_count": 13,
   "id": "23bbba0b",
   "metadata": {},
   "outputs": [],
   "source": [
    "def p(r, t, p0, g, k):\n",
    "    expr = p0 - g * (-sy.Ei(-r**2/(4*k*t)))\n",
    "    return expr"
   ]
  },
  {
   "cell_type": "code",
   "execution_count": 14,
   "id": "02f59fd4",
   "metadata": {},
   "outputs": [
    {
     "data": {
      "text/latex": [
       "$\\displaystyle g \\operatorname{Ei}{\\left(- \\frac{r^{2}}{4 k t} \\right)} + p_{0}$"
      ],
      "text/plain": [
       "g*Ei(-r**2/(4*k*t)) + p_0"
      ]
     },
     "execution_count": 14,
     "metadata": {},
     "output_type": "execute_result"
    }
   ],
   "source": [
    "p(r, t, p0, g, k)"
   ]
  },
  {
   "cell_type": "code",
   "execution_count": 16,
   "id": "a7c81b3f",
   "metadata": {},
   "outputs": [
    {
     "data": {
      "text/latex": [
       "$\\displaystyle - \\frac{g e^{- \\frac{r^{2}}{4 k t}}}{t}$"
      ],
      "text/plain": [
       "-g*exp(-r**2/(4*k*t))/t"
      ]
     },
     "execution_count": 16,
     "metadata": {},
     "output_type": "execute_result"
    }
   ],
   "source": [
    "dp = sy.diff(p(r, t, p0, g, k), t)\n",
    "dp"
   ]
  },
  {
   "cell_type": "code",
   "execution_count": 43,
   "id": "114d2c88",
   "metadata": {},
   "outputs": [
    {
     "data": {
      "text/latex": [
       "$\\displaystyle g \\operatorname{Ei}{\\left(- \\frac{r^{2}}{4 k} \\right)} + p_{0}$"
      ],
      "text/plain": [
       "g*Ei(-r**2/(4*k)) + p_0"
      ]
     },
     "execution_count": 43,
     "metadata": {},
     "output_type": "execute_result"
    }
   ],
   "source": [
    "p(r, t, p0, g, k).subs(t, 1)"
   ]
  },
  {
   "cell_type": "code",
   "execution_count": null,
   "id": "9f43a234",
   "metadata": {},
   "outputs": [],
   "source": []
  },
  {
   "cell_type": "code",
   "execution_count": null,
   "id": "7e10bb95",
   "metadata": {},
   "outputs": [],
   "source": [
    "params_1 = [(g, 1), (r, 0.1), (k, 1)]"
   ]
  },
  {
   "cell_type": "code",
   "execution_count": 33,
   "id": "83b3bc5c",
   "metadata": {},
   "outputs": [
    {
     "data": {
      "text/latex": [
       "$\\displaystyle - \\frac{e^{- \\frac{0.0025}{t}}}{t}$"
      ],
      "text/plain": [
       "-exp(-0.0025/t)/t"
      ]
     },
     "execution_count": 33,
     "metadata": {},
     "output_type": "execute_result"
    }
   ],
   "source": [
    "dp_c = dp.subs(params_1)\n",
    "dp_c"
   ]
  },
  {
   "cell_type": "code",
   "execution_count": 72,
   "id": "205a47b3",
   "metadata": {},
   "outputs": [
    {
     "data": {
      "text/latex": [
       "$\\displaystyle \\frac{1}{4}$"
      ],
      "text/plain": [
       "1/4"
      ]
     },
     "execution_count": 72,
     "metadata": {},
     "output_type": "execute_result"
    }
   ],
   "source": [
    "dp_c."
   ]
  },
  {
   "cell_type": "code",
   "execution_count": 61,
   "id": "a3172303",
   "metadata": {},
   "outputs": [
    {
     "data": {
      "text/latex": [
       "$\\displaystyle t$"
      ],
      "text/plain": [
       "t"
      ]
     },
     "execution_count": 61,
     "metadata": {},
     "output_type": "execute_result"
    }
   ],
   "source": [
    "t"
   ]
  },
  {
   "cell_type": "code",
   "execution_count": 101,
   "id": "90d847a1",
   "metadata": {},
   "outputs": [
    {
     "data": {
      "image/png": "[encoded data removed]",
      "text/plain": [
       "<Figure size 640x480 with 1 Axes>"
      ]
     },
     "metadata": {},
     "output_type": "display_data"
    },
    {
     "data": {
      "text/plain": [
       "<sympy.plotting.plot.Plot at 0x189aec7a190>"
      ]
     },
     "execution_count": 101,
     "metadata": {},
     "output_type": "execute_result"
    }
   ],
   "source": [
    "sy.plot(dp_c, xlim=[0.001, 0.03])"
   ]
  },
  {
   "cell_type": "markdown",
   "id": "5711e34a",
   "metadata": {},
   "source": [
    "В общем виде не получилось. Будем решать асимптотику в виде логарифма"
   ]
  },
  {
   "attachments": {
    "%D0%B8%D0%B7%D0%BE%D0%B1%D1%80%D0%B0%D0%B6%D0%B5%D0%BD%D0%B8%D0%B5.png": {
     "image/png": "[encoded data removed]"
    }
   },
   "cell_type": "markdown",
   "id": "c5ebc6fd",
   "metadata": {},
   "source": [
    "![%D0%B8%D0%B7%D0%BE%D0%B1%D1%80%D0%B0%D0%B6%D0%B5%D0%BD%D0%B8%D0%B5.png](attachment:%D0%B8%D0%B7%D0%BE%D0%B1%D1%80%D0%B0%D0%B6%D0%B5%D0%BD%D0%B8%D0%B5.png)"
   ]
  },
  {
   "cell_type": "code",
   "execution_count": 107,
   "id": "1b82e723",
   "metadata": {},
   "outputs": [],
   "source": [
    "def p(r, t, p0, g, k):\n",
    "    expr = p0 - g * (sy.ln((4*k*t)/r**2) - 0.5772)\n",
    "    return expr"
   ]
  },
  {
   "cell_type": "code",
   "execution_count": 109,
   "id": "7348f725",
   "metadata": {},
   "outputs": [],
   "source": [
    "r, t, p0, g, k = sy.symbols('r, t, p_0, g, k')"
   ]
  },
  {
   "cell_type": "code",
   "execution_count": 110,
   "id": "fcad6a67",
   "metadata": {},
   "outputs": [
    {
     "data": {
      "text/latex": [
       "$\\displaystyle - g \\left(\\log{\\left(\\frac{4 k t}{r^{2}} \\right)} - 0.5772\\right) + p_{0}$"
      ],
      "text/plain": [
       "-g*(log(4*k*t/r**2) - 0.5772) + p_0"
      ]
     },
     "execution_count": 110,
     "metadata": {},
     "output_type": "execute_result"
    }
   ],
   "source": [
    "p(r, t, p0, g, k)"
   ]
  },
  {
   "cell_type": "code",
   "execution_count": 111,
   "id": "66f676dc",
   "metadata": {},
   "outputs": [
    {
     "data": {
      "text/latex": [
       "$\\displaystyle - \\frac{g}{t}$"
      ],
      "text/plain": [
       "-g/t"
      ]
     },
     "execution_count": 111,
     "metadata": {},
     "output_type": "execute_result"
    }
   ],
   "source": [
    "dp = sy.diff(p(r, t, p0, g, k), t)\n",
    "dp"
   ]
  },
  {
   "cell_type": "code",
   "execution_count": 114,
   "id": "831d4e99",
   "metadata": {},
   "outputs": [],
   "source": [
    "q = sy.Symbol('q')"
   ]
  },
  {
   "cell_type": "markdown",
   "id": "12bc9cc9",
   "metadata": {},
   "source": [
    "$ q = -g / t $\n",
    "\n",
    "$-->$\n",
    "\n",
    "$ t = -g / q $"
   ]
  },
  {
   "cell_type": "code",
   "execution_count": 159,
   "id": "6ad53afe",
   "metadata": {},
   "outputs": [],
   "source": [
    "params_1 = [(g, 1), (r, 0.1), (k, 0.1), (p0, 100)]"
   ]
  },
  {
   "cell_type": "code",
   "execution_count": 160,
   "id": "12f20cea",
   "metadata": {},
   "outputs": [
    {
     "data": {
      "text/latex": [
       "$\\displaystyle 100.5772 - \\log{\\left(\\frac{40.0}{q} \\right)}$"
      ],
      "text/plain": [
       "100.5772 - log(40.0/q)"
      ]
     },
     "execution_count": 160,
     "metadata": {},
     "output_type": "execute_result"
    }
   ],
   "source": [
    "iprf = p(r, t, p0, g, k).subs([(t, g/q)]+params_1)\n",
    "iprf"
   ]
  },
  {
   "cell_type": "code",
   "execution_count": 161,
   "id": "d3946148",
   "metadata": {},
   "outputs": [
    {
     "data": {
      "image/png": "[encoded data removed]",
      "text/plain": [
       "<Figure size 640x480 with 1 Axes>"
      ]
     },
     "metadata": {},
     "output_type": "display_data"
    },
    {
     "data": {
      "text/plain": [
       "<sympy.plotting.plot.Plot at 0x189b67bf490>"
      ]
     },
     "execution_count": 161,
     "metadata": {},
     "output_type": "execute_result"
    }
   ],
   "source": [
    "sy.plot(iprf)"
   ]
  },
  {
   "cell_type": "code",
   "execution_count": null,
   "id": "9296fb22",
   "metadata": {},
   "outputs": [],
   "source": []
  },
  {
   "cell_type": "code",
   "execution_count": 162,
   "id": "d33db1d9",
   "metadata": {},
   "outputs": [
    {
     "data": {
      "text/latex": [
       "$\\displaystyle \\frac{1.0}{q}$"
      ],
      "text/plain": [
       "1.0/q"
      ]
     },
     "execution_count": 162,
     "metadata": {},
     "output_type": "execute_result"
    }
   ],
   "source": [
    "iprf.diff(q)"
   ]
  },
  {
   "cell_type": "code",
   "execution_count": 169,
   "id": "5a5b792d",
   "metadata": {},
   "outputs": [
    {
     "data": {
      "text/latex": [
       "$\\displaystyle \\log{\\left(t + 2 \\right)}$"
      ],
      "text/plain": [
       "log(t + 2)"
      ]
     },
     "execution_count": 169,
     "metadata": {},
     "output_type": "execute_result"
    }
   ],
   "source": [
    "(1/(t+2)).integrate(t)"
   ]
  },
  {
   "cell_type": "code",
   "execution_count": 174,
   "id": "21b4df1b",
   "metadata": {},
   "outputs": [
    {
     "data": {
      "text/latex": [
       "$\\displaystyle 0$"
      ],
      "text/plain": [
       "0"
      ]
     },
     "execution_count": 174,
     "metadata": {},
     "output_type": "execute_result"
    }
   ],
   "source": [
    "(sy.exp(-2*t-r)).limit(x=r, xlim=sy.oo)"
   ]
  },
  {
   "cell_type": "code",
   "execution_count": null,
   "id": "629eb296",
   "metadata": {},
   "outputs": [],
   "source": []
  },
  {
   "cell_type": "code",
   "execution_count": null,
   "id": "07cf0f4c",
   "metadata": {},
   "outputs": [],
   "source": []
  },
  {
   "cell_type": "code",
   "execution_count": 179,
   "id": "28fabf21",
   "metadata": {},
   "outputs": [],
   "source": []
  },
  {
   "cell_type": "code",
   "execution_count": 253,
   "id": "e5487995",
   "metadata": {},
   "outputs": [
    {
     "data": {
      "image/png": "[encoded data removed]",
      "text/plain": [
       "<Figure size 640x480 with 1 Axes>"
      ]
     },
     "metadata": {},
     "output_type": "display_data"
    },
    {
     "data": {
      "text/plain": [
       "<sympy.plotting.plot.Plot at 0x189bb549eb0>"
      ]
     },
     "execution_count": 253,
     "metadata": {},
     "output_type": "execute_result"
    }
   ],
   "source": [
    "pf = 100 - (100-90)*sy.exp(-(t-100)/0.1/1000)\n",
    "sy.plot(pf, (t, -100, 1000))"
   ]
  },
  {
   "cell_type": "code",
   "execution_count": 242,
   "id": "8ae980de",
   "metadata": {},
   "outputs": [
    {
     "data": {
      "text/plain": [
       "<function __main__.<lambda>(x)>"
      ]
     },
     "execution_count": 242,
     "metadata": {},
     "output_type": "execute_result"
    }
   ],
   "source": [
    "((lambda x: pf.subs(t, x)))"
   ]
  },
  {
   "cell_type": "code",
   "execution_count": 247,
   "id": "1917d1b1",
   "metadata": {},
   "outputs": [],
   "source": [
    "table = [[x+100, pf.subs(t, x)] for x in np.arange(-100, 1000)]"
   ]
  },
  {
   "cell_type": "code",
   "execution_count": 250,
   "id": "1b68b37c",
   "metadata": {},
   "outputs": [],
   "source": [
    "df = pd.DataFrame(table, columns=['t', 'p'])"
   ]
  },
  {
   "cell_type": "code",
   "execution_count": 252,
   "id": "c22f6e33",
   "metadata": {},
   "outputs": [],
   "source": [
    "df.to_excel('test.xlsx')"
   ]
  },
  {
   "cell_type": "code",
   "execution_count": null,
   "id": "c775378f",
   "metadata": {},
   "outputs": [],
   "source": []
  },
  {
   "cell_type": "code",
   "execution_count": null,
   "id": "8a28609d",
   "metadata": {},
   "outputs": [],
   "source": []
  },
  {
   "cell_type": "code",
   "execution_count": 288,
   "id": "ccdb2c19",
   "metadata": {},
   "outputs": [
    {
     "data": {
      "image/png": "[encoded data removed]",
      "text/plain": [
       "<Figure size 640x480 with 1 Axes>"
      ]
     },
     "metadata": {},
     "output_type": "display_data"
    },
    {
     "data": {
      "text/plain": [
       "<sympy.plotting.plot.Plot at 0x189c600dbb0>"
      ]
     },
     "execution_count": 288,
     "metadata": {},
     "output_type": "execute_result"
    }
   ],
   "source": [
    "sy.plot(10*t-0.0001*t**3, (t, 1, 1000), xscale='log', yscale='log')"
   ]
  },
  {
   "cell_type": "code",
   "execution_count": null,
   "id": "3bb8a206",
   "metadata": {},
   "outputs": [],
   "source": []
  },
  {
   "cell_type": "markdown",
   "id": "081c2149-f992-4ae5-b56d-fe7fda4d0f87",
   "metadata": {
    "jp-MarkdownHeadingCollapsed": true,
    "tags": []
   },
   "source": [
    "# Тест Dataclass"
   ]
  },
  {
   "cell_type": "code",
   "execution_count": 15,
   "id": "42cb555e-2d2b-4832-a74b-08b47b735a56",
   "metadata": {},
   "outputs": [
    {
     "name": "stdout",
     "output_type": "stream",
     "text": [
      "\"{\\\"param1\\\": 1.0, \\\"param2\\\": 2.0, \\\"param3\\\": 3.0, \\\"param4\\\": 4.0, \\\"param5\\\": 5.0, \\\"param6\\\": true, \\\"param7\\\": false, \\\"param9\\\": 9, \\\"param10\\\": 10, \\\"param11\\\": 11, \\\"param12\\\": 12}\"\n"
     ]
    },
    {
     "ename": "TypeError",
     "evalue": "from_json() missing 1 required positional argument: 'json_string'",
     "output_type": "error",
     "traceback": [
      "\u001b[1;31m---------------------------------------------------------------------------\u001b[0m",
      "\u001b[1;31mTypeError\u001b[0m                                 Traceback (most recent call last)",
      "\u001b[1;32m~\\AppData\\Local\\Temp\\ipykernel_22488\\1928347079.py\u001b[0m in \u001b[0;36m<module>\u001b[1;34m\u001b[0m\n\u001b[0;32m     65\u001b[0m         \u001b[0mjson_string\u001b[0m \u001b[1;33m=\u001b[0m \u001b[0mf\u001b[0m\u001b[1;33m.\u001b[0m\u001b[0mread\u001b[0m\u001b[1;33m(\u001b[0m\u001b[1;33m)\u001b[0m\u001b[1;33m\u001b[0m\u001b[1;33m\u001b[0m\u001b[0m\n\u001b[0;32m     66\u001b[0m     \u001b[0mprint\u001b[0m\u001b[1;33m(\u001b[0m\u001b[0mjson_string\u001b[0m\u001b[1;33m)\u001b[0m\u001b[1;33m\u001b[0m\u001b[1;33m\u001b[0m\u001b[0m\n\u001b[1;32m---> 67\u001b[1;33m     \u001b[0mdata_loaded\u001b[0m \u001b[1;33m=\u001b[0m \u001b[0mData\u001b[0m\u001b[1;33m.\u001b[0m\u001b[0mfrom_json\u001b[0m\u001b[1;33m(\u001b[0m\u001b[0mjson_string\u001b[0m\u001b[1;33m)\u001b[0m\u001b[1;33m\u001b[0m\u001b[1;33m\u001b[0m\u001b[0m\n\u001b[0m\u001b[0;32m     68\u001b[0m     \u001b[0mprint\u001b[0m\u001b[1;33m(\u001b[0m\u001b[0mdata_loaded\u001b[0m\u001b[1;33m)\u001b[0m\u001b[1;33m\u001b[0m\u001b[1;33m\u001b[0m\u001b[0m\n",
      "\u001b[1;31mTypeError\u001b[0m: from_json() missing 1 required positional argument: 'json_string'"
     ]
    }
   ],
   "source": [
    "import json\n",
    "import os\n",
    "\n",
    "@dataclass\n",
    "class Data:\n",
    "    param1: float\n",
    "    param2: float\n",
    "    param3: float\n",
    "    param4: float\n",
    "    param5: float\n",
    "    param6: bool\n",
    "    param7: bool\n",
    "    # param8: pd.DataFrame\n",
    "    param9: int\n",
    "    param10: int\n",
    "    param11: int\n",
    "    param12: int\n",
    "\n",
    "    def to_dict(self):\n",
    "        return {\n",
    "            'param1': self.param1,\n",
    "            'param2': self.param2,\n",
    "            'param3': self.param3,\n",
    "            'param4': self.param4,\n",
    "            'param5': self.param5,\n",
    "            'param6': self.param6,\n",
    "            'param7': self.param7,\n",
    "            # 'param8': self.param8.to_dict(),\n",
    "            'param9': self.param9,\n",
    "            'param10': self.param10,\n",
    "            'param11': self.param11,\n",
    "            'param12': self.param12\n",
    "        }\n",
    "\n",
    "    def to_json(self):\n",
    "        return json.dumps(self.to_dict())\n",
    "\n",
    "    def from_json(cls, json_string):\n",
    "        json_dict = json.loads(json_string)\n",
    "        return cls(**{k: v for k, v in json_dict.items() if k in cls.__dict__})\n",
    "\n",
    "    def from_dict(cls, json_dict):\n",
    "        return cls(**{k: v for k, v in json_dict.items() if k in cls.__dict__})\n",
    "\n",
    "data = Data(param1=1.0, \n",
    "            param2=2.0, \n",
    "            param3=3.0, \n",
    "            param4=4.0, \n",
    "            param5=5.0, \n",
    "            param6=True, \n",
    "            param7=False,\n",
    "            # param8=pd.DataFrame({'A': [1, 2, 3], 'B': [4, 5, 6]}), \n",
    "            param9=9, \n",
    "            param10=10, \n",
    "            param11=11, \n",
    "            param12=12)\n",
    "\n",
    "# Запись данных в файл\n",
    "with open('data.json', 'w') as f:\n",
    "    json.dump(data.to_json(), f)\n",
    "\n",
    "# Чтение данных из файла\n",
    "if os.path.exists('data.json'):\n",
    "    with open('data.json', 'r') as f:\n",
    "        json_string = f.read()\n",
    "    print(json_string)\n",
    "    data_loaded = Data.from_json(json_string)\n",
    "    print(data_loaded)\n"
   ]
  },
  {
   "cell_type": "code",
   "execution_count": 2,
   "id": "021b2f05-80e4-4a5e-ba5c-d42a795c9afb",
   "metadata": {},
   "outputs": [
    {
     "ename": "AttributeError",
     "evalue": "'Data' object has no attribute 'to_dict'",
     "output_type": "error",
     "traceback": [
      "\u001b[1;31m---------------------------------------------------------------------------\u001b[0m",
      "\u001b[1;31mAttributeError\u001b[0m                            Traceback (most recent call last)",
      "\u001b[1;32m~\\AppData\\Local\\Temp\\ipykernel_22488\\1913173795.py\u001b[0m in \u001b[0;36m<module>\u001b[1;34m\u001b[0m\n\u001b[0;32m      6\u001b[0m \u001b[1;31m# Запись данных в файл\u001b[0m\u001b[1;33m\u001b[0m\u001b[1;33m\u001b[0m\u001b[0m\n\u001b[0;32m      7\u001b[0m \u001b[1;32mwith\u001b[0m \u001b[0mopen\u001b[0m\u001b[1;33m(\u001b[0m\u001b[1;34m'data.json'\u001b[0m\u001b[1;33m,\u001b[0m \u001b[1;34m'w'\u001b[0m\u001b[1;33m)\u001b[0m \u001b[1;32mas\u001b[0m \u001b[0mf\u001b[0m\u001b[1;33m:\u001b[0m\u001b[1;33m\u001b[0m\u001b[1;33m\u001b[0m\u001b[0m\n\u001b[1;32m----> 8\u001b[1;33m     \u001b[0mjson\u001b[0m\u001b[1;33m.\u001b[0m\u001b[0mdump\u001b[0m\u001b[1;33m(\u001b[0m\u001b[0mdata\u001b[0m\u001b[1;33m.\u001b[0m\u001b[0mto_json\u001b[0m\u001b[1;33m(\u001b[0m\u001b[1;33m)\u001b[0m\u001b[1;33m,\u001b[0m \u001b[0mf\u001b[0m\u001b[1;33m)\u001b[0m\u001b[1;33m\u001b[0m\u001b[1;33m\u001b[0m\u001b[0m\n\u001b[0m\u001b[0;32m      9\u001b[0m \u001b[1;33m\u001b[0m\u001b[0m\n\u001b[0;32m     10\u001b[0m \u001b[1;31m# Чтение данных из файла\u001b[0m\u001b[1;33m\u001b[0m\u001b[1;33m\u001b[0m\u001b[0m\n",
      "\u001b[1;32m~\\AppData\\Local\\Temp\\ipykernel_22488\\1203783334.py\u001b[0m in \u001b[0;36mto_json\u001b[1;34m(self)\u001b[0m\n\u001b[0;32m     19\u001b[0m \u001b[1;33m\u001b[0m\u001b[0m\n\u001b[0;32m     20\u001b[0m     \u001b[1;32mdef\u001b[0m \u001b[0mto_json\u001b[0m\u001b[1;33m(\u001b[0m\u001b[0mself\u001b[0m\u001b[1;33m)\u001b[0m\u001b[1;33m:\u001b[0m\u001b[1;33m\u001b[0m\u001b[1;33m\u001b[0m\u001b[0m\n\u001b[1;32m---> 21\u001b[1;33m         \u001b[1;32mreturn\u001b[0m \u001b[0mjson\u001b[0m\u001b[1;33m.\u001b[0m\u001b[0mdumps\u001b[0m\u001b[1;33m(\u001b[0m\u001b[0mself\u001b[0m\u001b[1;33m.\u001b[0m\u001b[0mto_dict\u001b[0m\u001b[1;33m(\u001b[0m\u001b[1;33m)\u001b[0m\u001b[1;33m)\u001b[0m\u001b[1;33m\u001b[0m\u001b[1;33m\u001b[0m\u001b[0m\n\u001b[0m\u001b[0;32m     22\u001b[0m \u001b[1;33m\u001b[0m\u001b[0m\n\u001b[0;32m     23\u001b[0m     \u001b[1;32mdef\u001b[0m \u001b[0mfrom_json\u001b[0m\u001b[1;33m(\u001b[0m\u001b[0mcls\u001b[0m\u001b[1;33m,\u001b[0m \u001b[0mjson_string\u001b[0m\u001b[1;33m)\u001b[0m\u001b[1;33m:\u001b[0m\u001b[1;33m\u001b[0m\u001b[1;33m\u001b[0m\u001b[0m\n",
      "\u001b[1;31mAttributeError\u001b[0m: 'Data' object has no attribute 'to_dict'"
     ]
    }
   ],
   "source": [
    "import json\n",
    "import os\n",
    "\n",
    "data = Data(param1=1.0, \n",
    "            param2=2.0, \n",
    "            param3=3.0, \n",
    "            param4=4.0, \n",
    "            param5=5.0, \n",
    "            param6=True, \n",
    "            param7=False, \n",
    "            param8=pd.DataFrame(), \n",
    "            param9=9, \n",
    "            param10=10, \n",
    "            param11=11, \n",
    "            param12=12)\n",
    "\n",
    "# Запись данных в файл\n",
    "with open('data.json', 'w') as f:\n",
    "    json.dump(data.to_json(), f)\n",
    "\n",
    "# Чтение данных из файла\n",
    "if os.path.exists('data.json'):\n",
    "    with open('data.json', 'r') as f:\n",
    "        json_string = f.read()\n",
    "    data_loaded = Data.from_json(json_string)\n",
    "    print(data_loaded)\n"
   ]
  },
  {
   "cell_type": "code",
   "execution_count": 50,
   "id": "d8ccaace-957b-44de-98b0-3fdef188de78",
   "metadata": {},
   "outputs": [
    {
     "name": "stdout",
     "output_type": "stream",
     "text": [
      "Data(param1=1.0, param2=2.0, param3=3.0, param4=4.0, param5=5.0, param6=True, param7=False, param8={}, param9=9, param10=10, param11=11, param12=12)\n"
     ]
    }
   ],
   "source": [
    "import json\n",
    "import os\n",
    "\n",
    "@dataclass\n",
    "class Data:\n",
    "    param1: float\n",
    "    param2: float\n",
    "    param3: float\n",
    "    param4: float\n",
    "    param5: float\n",
    "    param6: bool\n",
    "    param7: bool\n",
    "    param8: pd.DataFrame\n",
    "    param9: int\n",
    "    param10: int\n",
    "    param11: int\n",
    "    param12: int\n",
    "    \n",
    "    # @classmethod\n",
    "    def to_dict(self):\n",
    "        return {\n",
    "            'param1': self.param1,\n",
    "            'param2': self.param2,\n",
    "            'param3': self.param3,\n",
    "            'param4': self.param4,\n",
    "            'param5': self.param5,\n",
    "            'param6': self.param6,\n",
    "            'param7': self.param7,\n",
    "            'param8': self.param8.to_dict(),\n",
    "            'param9': self.param9,\n",
    "            'param10': self.param10,\n",
    "            'param11': self.param11,\n",
    "            'param12': self.param12\n",
    "        }\n",
    "    \n",
    "    # @classmethod\n",
    "    def to_json(self):\n",
    "        return json.dumps(self.to_dict())\n",
    "\n",
    "    # @classmethod\n",
    "    # def from_json(cls, json_string):\n",
    "    #     json_dict = json.loads(json_string)\n",
    "    #     return cls(**{k: v for k, v in json_dict.items() if k in cls.__dict__})\n",
    "    \n",
    "    # @classmethod\n",
    "    # def from_dict(cls, json_dict):\n",
    "    #     return cls(**{k: v for k, v in json_dict.items() if k in cls.__dict__})\n",
    "    \n",
    "    @classmethod\n",
    "    def from_dict_data(cls, data_dict):\n",
    "        return cls(**data_dict)\n",
    "    \n",
    "    @classmethod\n",
    "    def from_json(self, json_string):\n",
    "        return Data(**json.loads(json_string))\n",
    "    \n",
    "    @classmethod\n",
    "    def from_dict(self, cls, json_dict):\n",
    "        return cls(**json_dict)\n",
    "\n",
    "data = Data(param1=1.0, param2=2.0, param3=3.0, param4=4.0, param5=5.0, param6=True, param7=False, param8=pd.DataFrame(), param9=9, param10=10, param11=11, param12=12)\n",
    "\n",
    "# Запись данных в файл\n",
    "with open('data.json', 'w') as f:\n",
    "    json.dump(data.to_json(), f)\n",
    "\n",
    "# Чтение данных из файла\n",
    "if os.path.exists('data.json'):\n",
    "    with open('data.json', 'r') as f:\n",
    "        json_string = f.read()\n",
    "    data_loaded = Data.from_json( json_string=json.loads(json_string))\n",
    "    print(data_loaded)\n"
   ]
  },
  {
   "cell_type": "code",
   "execution_count": 37,
   "id": "0bddb660-a496-4094-9c6e-c361134d5c81",
   "metadata": {},
   "outputs": [
    {
     "data": {
      "text/plain": [
       "{'param1': 1.0,\n",
       " 'param2': 2.0,\n",
       " 'param3': 3.0,\n",
       " 'param4': 4.0,\n",
       " 'param5': 5.0,\n",
       " 'param6': True,\n",
       " 'param7': False,\n",
       " 'param8': {},\n",
       " 'param9': 9,\n",
       " 'param10': 10,\n",
       " 'param11': 11,\n",
       " 'param12': 12}"
      ]
     },
     "execution_count": 37,
     "metadata": {},
     "output_type": "execute_result"
    }
   ],
   "source": [
    "json.loads(json_dict)"
   ]
  },
  {
   "cell_type": "code",
   "execution_count": null,
   "id": "373f9346-3e51-41d7-a678-e767be03bb27",
   "metadata": {},
   "outputs": [],
   "source": []
  },
  {
   "cell_type": "markdown",
   "id": "d5e56ea8-8049-471b-8b72-d94a4e20f088",
   "metadata": {
    "jp-MarkdownHeadingCollapsed": true,
    "tags": []
   },
   "source": [
    "# Новый тип данных"
   ]
  },
  {
   "cell_type": "code",
   "execution_count": 91,
   "id": "ac176fc8-f785-4b77-a316-d31a4d275f9c",
   "metadata": {},
   "outputs": [],
   "source": [
    "class WbsType:\n",
    "    def __init__(self, wbs_type):\n",
    "        print(wbs_type)\n",
    "        if wbs_type not in ['Затрубное пространство', 'НКТ', 'НКТ+затруб', 'Сжимаемость']:\n",
    "            print('&')\n",
    "            raise ValueError(\"Invalid status. Must be 'Затрубное пространство', 'НКТ', 'НКТ+затруб', 'Сжимаемость'.\")\n",
    "        self.status = wbs_type\n"
   ]
  },
  {
   "cell_type": "code",
   "execution_count": 92,
   "id": "d9844703-8a7e-42a4-851b-3100a50b31e8",
   "metadata": {},
   "outputs": [],
   "source": [
    "\n",
    "@dataclass\n",
    "class NewData:\n",
    "    a: WbsType\n",
    "    "
   ]
  },
  {
   "cell_type": "code",
   "execution_count": 93,
   "id": "dee9a475-9a4a-434f-9ead-c9bdfd8ce73a",
   "metadata": {},
   "outputs": [],
   "source": [
    "aa = NewData(a='НКТ')"
   ]
  },
  {
   "cell_type": "code",
   "execution_count": 94,
   "id": "2945885a-e0ad-4ecb-a8a1-e4e9f198314c",
   "metadata": {},
   "outputs": [
    {
     "data": {
      "text/plain": [
       "'НКТ'"
      ]
     },
     "execution_count": 94,
     "metadata": {},
     "output_type": "execute_result"
    }
   ],
   "source": [
    "aa.a"
   ]
  },
  {
   "cell_type": "code",
   "execution_count": 95,
   "id": "fb57f961-2595-4775-854b-cb28208d1718",
   "metadata": {},
   "outputs": [],
   "source": [
    "ab = NewData(a='НКb')"
   ]
  },
  {
   "cell_type": "code",
   "execution_count": 96,
   "id": "c7f32715-9bfe-4ed5-8ac1-ca1843a99e9a",
   "metadata": {},
   "outputs": [
    {
     "data": {
      "text/plain": [
       "'НКb'"
      ]
     },
     "execution_count": 96,
     "metadata": {},
     "output_type": "execute_result"
    }
   ],
   "source": [
    "ab.a"
   ]
  },
  {
   "cell_type": "code",
   "execution_count": 70,
   "id": "6c9cda82-4c6c-4f15-989e-704473fff04b",
   "metadata": {},
   "outputs": [
    {
     "ename": "ValueError",
     "evalue": "Invalid status. Must be 'Затрубное пространство', 'НКТ', 'НКТ+затруб', 'Сжимаемость'.",
     "output_type": "error",
     "traceback": [
      "\u001b[1;31m---------------------------------------------------------------------------\u001b[0m",
      "\u001b[1;31mValueError\u001b[0m                                Traceback (most recent call last)",
      "\u001b[1;32m~\\AppData\\Local\\Temp\\ipykernel_22488\\623458083.py\u001b[0m in \u001b[0;36m<module>\u001b[1;34m\u001b[0m\n\u001b[1;32m----> 1\u001b[1;33m \u001b[1;32mraise\u001b[0m \u001b[0mValueError\u001b[0m\u001b[1;33m(\u001b[0m\u001b[1;34m\"Invalid status. Must be 'Затрубное пространство', 'НКТ', 'НКТ+затруб', 'Сжимаемость'.\"\u001b[0m\u001b[1;33m)\u001b[0m\u001b[1;33m\u001b[0m\u001b[1;33m\u001b[0m\u001b[0m\n\u001b[0m",
      "\u001b[1;31mValueError\u001b[0m: Invalid status. Must be 'Затрубное пространство', 'НКТ', 'НКТ+затруб', 'Сжимаемость'."
     ]
    }
   ],
   "source": [
    "raise ValueError(\"Invalid status. Must be 'Затрубное пространство', 'НКТ', 'НКТ+затруб', 'Сжимаемость'.\")"
   ]
  },
  {
   "cell_type": "code",
   "execution_count": null,
   "id": "3f5da851-072a-468c-995b-c904930f0710",
   "metadata": {},
   "outputs": [],
   "source": []
  },
  {
   "cell_type": "markdown",
   "id": "e7b28be3-be21-4d02-93f6-7fcbc479dd97",
   "metadata": {
    "jp-MarkdownHeadingCollapsed": true,
    "tags": []
   },
   "source": [
    "# Plotly"
   ]
  },
  {
   "cell_type": "code",
   "execution_count": 97,
   "id": "affd7151-f308-47da-80e1-22b06842af38",
   "metadata": {},
   "outputs": [
    {
     "ename": "ModuleNotFoundError",
     "evalue": "No module named 'dash'",
     "output_type": "error",
     "traceback": [
      "\u001b[1;31m---------------------------------------------------------------------------\u001b[0m",
      "\u001b[1;31mModuleNotFoundError\u001b[0m                       Traceback (most recent call last)",
      "\u001b[1;32m~\\AppData\\Local\\Temp\\ipykernel_22488\\2970840314.py\u001b[0m in \u001b[0;36m<module>\u001b[1;34m\u001b[0m\n\u001b[0;32m      4\u001b[0m \u001b[1;31m# fig.update_layout( ... )\u001b[0m\u001b[1;33m\u001b[0m\u001b[1;33m\u001b[0m\u001b[0m\n\u001b[0;32m      5\u001b[0m \u001b[1;33m\u001b[0m\u001b[0m\n\u001b[1;32m----> 6\u001b[1;33m \u001b[1;32mfrom\u001b[0m \u001b[0mdash\u001b[0m \u001b[1;32mimport\u001b[0m \u001b[0mDash\u001b[0m\u001b[1;33m,\u001b[0m \u001b[0mdcc\u001b[0m\u001b[1;33m,\u001b[0m \u001b[0mhtml\u001b[0m\u001b[1;33m\u001b[0m\u001b[1;33m\u001b[0m\u001b[0m\n\u001b[0m\u001b[0;32m      7\u001b[0m \u001b[1;33m\u001b[0m\u001b[0m\n\u001b[0;32m      8\u001b[0m \u001b[0mapp\u001b[0m \u001b[1;33m=\u001b[0m \u001b[0mDash\u001b[0m\u001b[1;33m(\u001b[0m\u001b[1;33m)\u001b[0m\u001b[1;33m\u001b[0m\u001b[1;33m\u001b[0m\u001b[0m\n",
      "\u001b[1;31mModuleNotFoundError\u001b[0m: No module named 'dash'"
     ]
    }
   ],
   "source": [
    "import plotly.graph_objects as go # or plotly.express as px\n",
    "fig = go.Figure() # or any Plotly Express function e.g. px.bar(...)\n",
    "# fig.add_trace( ... )\n",
    "# fig.update_layout( ... )\n",
    "\n",
    "from dash import Dash, dcc, html\n",
    "\n",
    "app = Dash()\n",
    "app.layout = html.Div([\n",
    "    dcc.Graph(figure=fig)\n",
    "])\n",
    "\n",
    "app.run_server(debug=True, use_reloader=False)  # Turn off reloader if inside Jupyter"
   ]
  },
  {
   "cell_type": "markdown",
   "id": "70497d3f-8f14-41a3-9f8e-cc2cf10ec91d",
   "metadata": {},
   "source": [
    "# Контроль изменений параметров"
   ]
  },
  {
   "cell_type": "code",
   "execution_count": 111,
   "id": "4edfbc07-fe8b-457d-91b5-7e0e19fe117c",
   "metadata": {},
   "outputs": [],
   "source": [
    "class A:\n",
    "    def __init__(self, foo=None):\n",
    "        self._foo = foo\n",
    "        self._key = 0\n",
    "    \n",
    "    @property\n",
    "    def foo(self):\n",
    "        \"\"\"Вызовется при запросе значения из атрибута foo\"\"\"\n",
    "        return self._foo\n",
    "    \n",
    "    @foo.setter\n",
    "    def foo(self, value):\n",
    "        \"\"\"Вызовется при присвоении значения атрибуту foo\"\"\"\n",
    "        self._foo = value\n",
    "        self.__bar()  # Выполняем нужные действия после присвоения\n",
    "    \n",
    "    def __bar(self):\n",
    "        print('произошло присвоение')\n",
    "        print(self._key)\n",
    "\n",
    "\n",
    "\n"
   ]
  },
  {
   "cell_type": "code",
   "execution_count": 117,
   "id": "6c0a444d-6f65-426e-be00-08b3843a3654",
   "metadata": {},
   "outputs": [],
   "source": [
    "a = A(5)\n",
    "# a.foo = 5"
   ]
  },
  {
   "cell_type": "code",
   "execution_count": 113,
   "id": "205fe3bf-a0a4-4be1-b4a0-78df10669ef9",
   "metadata": {},
   "outputs": [
    {
     "name": "stdout",
     "output_type": "stream",
     "text": [
      "произошло присвоение\n",
      "0\n"
     ]
    }
   ],
   "source": [
    "a.foo = 7"
   ]
  },
  {
   "cell_type": "code",
   "execution_count": 115,
   "id": "9e310010-36a5-406f-8dc1-0fe52718e019",
   "metadata": {},
   "outputs": [],
   "source": [
    "a._foo = 5"
   ]
  },
  {
   "cell_type": "code",
   "execution_count": null,
   "id": "5c9f3a9c-ab05-4a86-8eb9-3a419b99bce2",
   "metadata": {},
   "outputs": [],
   "source": []
  },
  {
   "cell_type": "code",
   "execution_count": null,
   "id": "ae432391-2aba-432f-a295-2e1181d690fb",
   "metadata": {},
   "outputs": [],
   "source": []
  },
  {
   "cell_type": "code",
   "execution_count": null,
   "id": "d9af7ec1-1fd3-42d0-b314-dbedb26af5b5",
   "metadata": {},
   "outputs": [],
   "source": []
  },
  {
   "cell_type": "code",
   "execution_count": null,
   "id": "cea7aae1-c717-4f1d-b8c4-43867273807f",
   "metadata": {},
   "outputs": [],
   "source": []
  },
  {
   "cell_type": "markdown",
   "id": "1c32f286-0ca1-4c95-97bf-9d81852596fd",
   "metadata": {},
   "source": [
    "# Foot"
   ]
  }
 ],
 "metadata": {
  "kernelspec": {
   "display_name": "Python 3 (ipykernel)",
   "language": "python",
   "name": "python3"
  },
  "language_info": {
   "codemirror_mode": {
    "name": "ipython",
    "version": 3
   },
   "file_extension": ".py",
   "mimetype": "text/x-python",
   "name": "python",
   "nbconvert_exporter": "python",
   "pygments_lexer": "ipython3",
   "version": "3.9.13"
  }
 },
 "nbformat": 4,
 "nbformat_minor": 5
}
