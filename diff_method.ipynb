{
 "cells": [
  {
   "cell_type": "markdown",
   "id": "fc4103d4",
   "metadata": {
    "jp-MarkdownHeadingCollapsed": true,
    "tags": []
   },
   "source": [
    "# Дифференциальный метод определения Рпл"
   ]
  },
  {
   "cell_type": "markdown",
   "id": "f95e39a1",
   "metadata": {},
   "source": [
    "## Теория"
   ]
  },
  {
   "cell_type": "markdown",
   "id": "32d4bcb3",
   "metadata": {},
   "source": [
    "Дифференциальный метод определения пластового давления применяется для обработки исследований методами КВУ, КВД, КПД.\n",
    "\n",
    "\n",
    "Основой дифференциального метода является закон Дарси, который устанавливает связь между дебитом скважины и забойным давлением с учетом фильтрационно-емкостных свойств пласта и для квазистационарного режима работы скважины:\n"
   ]
  },
  {
   "attachments": {
    "%D0%B8%D0%B7%D0%BE%D0%B1%D1%80%D0%B0%D0%B6%D0%B5%D0%BD%D0%B8%D0%B5-2.png": {
     "image/png": "[encoded data removed]"
    },
    "%D0%B8%D0%B7%D0%BE%D0%B1%D1%80%D0%B0%D0%B6%D0%B5%D0%BD%D0%B8%D0%B5.png": {
     "image/png": "[encoded data removed]"
    }
   },
   "cell_type": "markdown",
   "id": "473f20e1",
   "metadata": {},
   "source": [
    "![%D0%B8%D0%B7%D0%BE%D0%B1%D1%80%D0%B0%D0%B6%D0%B5%D0%BD%D0%B8%D0%B5.png](attachment:%D0%B8%D0%B7%D0%BE%D0%B1%D1%80%D0%B0%D0%B6%D0%B5%D0%BD%D0%B8%D0%B5.png) или ![%D0%B8%D0%B7%D0%BE%D0%B1%D1%80%D0%B0%D0%B6%D0%B5%D0%BD%D0%B8%D0%B5-2.png](attachment:%D0%B8%D0%B7%D0%BE%D0%B1%D1%80%D0%B0%D0%B6%D0%B5%D0%BD%D0%B8%D0%B5-2.png)"
   ]
  },
  {
   "cell_type": "markdown",
   "id": "6dba163f",
   "metadata": {},
   "source": [
    "где $Q_{жид}$ – дебит жидкости, $k$ – проницаемость,  $h$ – толщина пласта, $В$ – объемный коэффициент, $μ$ – вязкость, $Р_{пл}$ – пластовое давление, $Р_{заб}$ – забойное давление, $r_к$ – радиус контура питания, $r_с$ – радиус скважины, $S$ – скин-фактор.\n",
    "\n",
    "Выразив из последней формулы $Р_{заб}$, получаем следующее:\n"
   ]
  },
  {
   "attachments": {
    "%D0%B8%D0%B7%D0%BE%D0%B1%D1%80%D0%B0%D0%B6%D0%B5%D0%BD%D0%B8%D0%B5.png": {
     "image/png": "[encoded data removed]"
    }
   },
   "cell_type": "markdown",
   "id": "a0ceaba8",
   "metadata": {},
   "source": [
    "![%D0%B8%D0%B7%D0%BE%D0%B1%D1%80%D0%B0%D0%B6%D0%B5%D0%BD%D0%B8%D0%B5.png](attachment:%D0%B8%D0%B7%D0%BE%D0%B1%D1%80%D0%B0%D0%B6%D0%B5%D0%BD%D0%B8%D0%B5.png)"
   ]
  },
  {
   "cell_type": "markdown",
   "id": "141492ae",
   "metadata": {},
   "source": [
    "График зависимости в координатах давления от дебита будет представлять собой прямую линию, которая пересекает ось $Y$ в точке $Р_{пл}$ и имеет наклон $1/К_{пр}$. Сопоставив забойное давление в каждый момент времени после остановки скважины с соответствующим значением дебита жидкости определяется прогнозное значение пластового давления и коэффициент продуктивности. Дебит жидкости в процессе исследования рассчитывается из учета изменения уровня жидкости во времени:"
   ]
  },
  {
   "attachments": {
    "%D0%B8%D0%B7%D0%BE%D0%B1%D1%80%D0%B0%D0%B6%D0%B5%D0%BD%D0%B8%D0%B5.png": {
     "image/png": "[encoded data removed]"
    }
   },
   "cell_type": "markdown",
   "id": "249e4a06",
   "metadata": {},
   "source": [
    "![%D0%B8%D0%B7%D0%BE%D0%B1%D1%80%D0%B0%D0%B6%D0%B5%D0%BD%D0%B8%D0%B5.png](attachment:%D0%B8%D0%B7%D0%BE%D0%B1%D1%80%D0%B0%D0%B6%D0%B5%D0%BD%D0%B8%D0%B5.png)"
   ]
  },
  {
   "cell_type": "markdown",
   "id": "cd85f544",
   "metadata": {},
   "source": [
    "где $dH_{скв}$ – изменение уровня жидкости при проведении исследования (КП) за промежуток времени, $dt$ – промежуток времени, $S_{скв}$ – площадь поперечного сечения скважины."
   ]
  },
  {
   "cell_type": "markdown",
   "id": "4fd62c12",
   "metadata": {},
   "source": [
    "В случае проведения исследования уровнемером изменение уровня измерено, но необходимо рассчитать значение забойного давления. Разработано множество методов расчета забойного давления. Обзор этих работ выходит за рамки данного обзора. Далее для простоты принято, что расчет забойного давления производится по гидростатической формуле с учетом плотности жидкости в стволе скважины.\n",
    "\n",
    "В случае проведения исследования замером давления глубинным прибором или телеметрической системой (ТМС) изменение уровня может рассчитываться по формуле:"
   ]
  },
  {
   "attachments": {
    "%D0%B8%D0%B7%D0%BE%D0%B1%D1%80%D0%B0%D0%B6%D0%B5%D0%BD%D0%B8%D0%B5.png": {
     "image/png": "[encoded data removed]"
    }
   },
   "cell_type": "markdown",
   "id": "a3879773",
   "metadata": {},
   "source": [
    "![%D0%B8%D0%B7%D0%BE%D0%B1%D1%80%D0%B0%D0%B6%D0%B5%D0%BD%D0%B8%D0%B5.png](attachment:%D0%B8%D0%B7%D0%BE%D0%B1%D1%80%D0%B0%D0%B6%D0%B5%D0%BD%D0%B8%D0%B5.png)"
   ]
  },
  {
   "cell_type": "markdown",
   "id": "ced77f16",
   "metadata": {},
   "source": [
    "где $ρ$ – плотность жидкости, $g$ – ускорение свободного падения (9,80665 м/$с^2$)\n"
   ]
  },
  {
   "cell_type": "markdown",
   "id": "4a16ea4f",
   "metadata": {},
   "source": [
    "В случае изменения уровня жидкости в наклонной части ствола скважины для расчета дебита необходимо учитывать траекторию скважины (инклинометрию). Для этого по замерам давления рассчитывается значение глубины уровня по вертикали:"
   ]
  },
  {
   "attachments": {
    "%D0%B8%D0%B7%D0%BE%D0%B1%D1%80%D0%B0%D0%B6%D0%B5%D0%BD%D0%B8%D0%B5.png": {
     "image/png": "[encoded data removed]"
    }
   },
   "cell_type": "markdown",
   "id": "38b8cf40",
   "metadata": {},
   "source": [
    "![%D0%B8%D0%B7%D0%BE%D0%B1%D1%80%D0%B0%D0%B6%D0%B5%D0%BD%D0%B8%D0%B5.png](attachment:%D0%B8%D0%B7%D0%BE%D0%B1%D1%80%D0%B0%D0%B6%D0%B5%D0%BD%D0%B8%D0%B5.png)"
   ]
  },
  {
   "cell_type": "markdown",
   "id": "62010ac0",
   "metadata": {},
   "source": [
    "Далее по таблице инклинометрии рассчитывается глубина уровня по стволу скважины."
   ]
  },
  {
   "cell_type": "markdown",
   "id": "ac60faa5",
   "metadata": {},
   "source": [
    "В случаях если восстановление давления происходит при полностью заполненном стволе скважины либо произведено перекрытие пласта на забое, приток к стволу скважины происходит за счет сжимаемости жидкости. Поэтому приток в таком случае рассчитывается по формуле:"
   ]
  },
  {
   "cell_type": "markdown",
   "id": "bf3f90b3",
   "metadata": {},
   "source": [
    "$$ Q_{жид} = c_{жид}\\cdot V \\cdot \\frac{\\mathrm{d}P_{заб}}{\\mathrm{dt}} $$"
   ]
  },
  {
   "cell_type": "markdown",
   "id": "0eebe4e3",
   "metadata": {},
   "source": [
    "где $c_{жид}$ - сжимаемость жидкости, $V$ - объем ствола скважины."
   ]
  },
  {
   "cell_type": "markdown",
   "id": "c74e6ccb",
   "metadata": {},
   "source": [
    "Стоит отметить, что в процессе восстановления давления при КВД/КВУ уровень жидкости может достигнуть устья. В таком случае расчет жидкости переходит из формулы роста уровня к формуле сжатия. Аналогично при КПД расчет по формуле сжатия переходит к расчету по формуле изменения уровня. Происходит так называемый процесс изменения типа влияния ствола скважины. \n",
    "\n",
    "Процесс перехода изучен недостаточно, поэтому на текущем этапе используем функцию по условию:\n"
   ]
  },
  {
   "cell_type": "markdown",
   "id": "03992a19",
   "metadata": {},
   "source": [
    "$$ Q_{жид}(P_{заб}) =\n",
    "  \\begin{cases}\n",
    "    c_{жид}\\cdot V \\cdot \\frac{\\mathrm{d}P_{заб}}{\\mathrm{dt}} & \\quad \\text{если } P_{заб} > P_{гидростат}\\\\\n",
    "    \\frac{dH_{скв} \\cdot S_{скв}}{\\mathrm{dt}}  & \\quad \\text{если } P_{заб} \\leq P_{гидростат}\n",
    "  \\end{cases}\n",
    "$$"
   ]
  },
  {
   "cell_type": "markdown",
   "id": "eb283000",
   "metadata": {},
   "source": [
    "где $P_{гидростат}$ - давление столба жидкости, рассчитываемая на глубину $H$ по формуле:\n"
   ]
  },
  {
   "cell_type": "markdown",
   "id": "777c4acc",
   "metadata": {},
   "source": [
    "$$P_{гидростат} = \\rho \\cdot g \\cdot H $$"
   ]
  },
  {
   "cell_type": "markdown",
   "id": "5ff89656",
   "metadata": {},
   "source": [
    "## Ограничения"
   ]
  },
  {
   "cell_type": "markdown",
   "id": "ef88e989",
   "metadata": {},
   "source": [
    "Модель жесткого пласта на практике практически не может быть реализована. Эффект прямолинейной кривой диаграммы восстановления давления может быть достигнута при условиях наличия эффекта ВСС, соответствующего условиям наложения роста давления при текущих параметрах пласта и эффекта ВСС. **Эти условия пока не определены.** Выявление этих условий, вероятно, даст возможность более обоснованно _определять Рпл и Кпрод_ по дифференциальному методу, и возможно даже, определять эти параметры _за более короткую длительность исследования_.\n",
    "\n",
    "Тем не менее на текущий момент дифференциальный метод используется в модифицированном виде: из всей кривой восстановления выбирается конечный (по времени) линейный участок восстановления давления и аппроксимируется линией до значения нулевого дебита. Такое восстановление фактически соответствует зависимости восстановления давления, имеющий следующий вид:\n",
    "\n",
    "$$p(t) = p_0 - (p_0 - p_k) \\cdot exp(\\frac{t - t_k}{\\alpha C} )$$\n",
    "\n",
    "где $p_0$ - пластовое давление, $p_k$ - давление на конец исследования, $\\alpha$ - коэффициент аппроксимирующей линии, $C$ - коэффициент ВСС, $t_k$ - время на конец исследования. \n",
    "\n"
   ]
  },
  {
   "cell_type": "markdown",
   "id": "d29c9fac",
   "metadata": {},
   "source": [
    "## Не рассмотренные аспекты (пока что)"
   ]
  },
  {
   "attachments": {
    "%D0%B8%D0%B7%D0%BE%D0%B1%D1%80%D0%B0%D0%B6%D0%B5%D0%BD%D0%B8%D0%B5-2.png": {
     "image/png": "[encoded data removed]"
    },
    "%D0%B8%D0%B7%D0%BE%D0%B1%D1%80%D0%B0%D0%B6%D0%B5%D0%BD%D0%B8%D0%B5-3.png": {
     "image/png": "[encoded data removed]"
    },
    "%D0%B8%D0%B7%D0%BE%D0%B1%D1%80%D0%B0%D0%B6%D0%B5%D0%BD%D0%B8%D0%B5-4.png": {
     "image/png": "[encoded data removed]"
    },
    "%D0%B8%D0%B7%D0%BE%D0%B1%D1%80%D0%B0%D0%B6%D0%B5%D0%BD%D0%B8%D0%B5.png": {
     "image/png": "[encoded data removed]"
    }
   },
   "cell_type": "markdown",
   "id": "6454508d",
   "metadata": {},
   "source": [
    "![%D0%B8%D0%B7%D0%BE%D0%B1%D1%80%D0%B0%D0%B6%D0%B5%D0%BD%D0%B8%D0%B5.png](attachment:%D0%B8%D0%B7%D0%BE%D0%B1%D1%80%D0%B0%D0%B6%D0%B5%D0%BD%D0%B8%D0%B5.png)\n",
    "\n",
    "![%D0%B8%D0%B7%D0%BE%D0%B1%D1%80%D0%B0%D0%B6%D0%B5%D0%BD%D0%B8%D0%B5-2.png](attachment:%D0%B8%D0%B7%D0%BE%D0%B1%D1%80%D0%B0%D0%B6%D0%B5%D0%BD%D0%B8%D0%B5-2.png)\n",
    "\n",
    "![%D0%B8%D0%B7%D0%BE%D0%B1%D1%80%D0%B0%D0%B6%D0%B5%D0%BD%D0%B8%D0%B5-3.png](attachment:%D0%B8%D0%B7%D0%BE%D0%B1%D1%80%D0%B0%D0%B6%D0%B5%D0%BD%D0%B8%D0%B5-3.png)\n",
    "\n",
    "![%D0%B8%D0%B7%D0%BE%D0%B1%D1%80%D0%B0%D0%B6%D0%B5%D0%BD%D0%B8%D0%B5-4.png](attachment:%D0%B8%D0%B7%D0%BE%D0%B1%D1%80%D0%B0%D0%B6%D0%B5%D0%BD%D0%B8%D0%B5-4.png)"
   ]
  },
  {
   "cell_type": "markdown",
   "id": "34be21c2",
   "metadata": {},
   "source": [
    "- В основном не линия: период преобладания ВСС, радиального режима, граничных условий и т.д.\n",
    "- Достоверность результатов\n",
    "- Влияние чувствительности замеров давления"
   ]
  },
  {
   "cell_type": "markdown",
   "id": "d5817559",
   "metadata": {},
   "source": [
    "## Описание"
   ]
  },
  {
   "cell_type": "markdown",
   "id": "aee66182",
   "metadata": {},
   "source": [
    "\n",
    "Допущения:\n",
    "- Интервал для исследования выбран корректно (начало и конец исследования корректны и без выбросов)"
   ]
  },
  {
   "cell_type": "markdown",
   "id": "faf5b97c",
   "metadata": {},
   "source": [
    "Добавить логику решения, описание\n",
    "\n",
    "Давление:\n",
    "   - Для данных указывается глубина замера либо задается давление на глубину ВДП\n",
    "   - По умолчанию будем считать, что давление задано на глубину ВДП\n",
    "\n",
    "КПД:\n",
    "   - 1212\n",
    "\n",
    "КВД:\n",
    "   - Рассчитать гидростат (pg)"
   ]
  },
  {
   "cell_type": "markdown",
   "id": "1220c1f1",
   "metadata": {},
   "source": [
    "# Алгоритм обработки дифференциальным методом"
   ]
  },
  {
   "cell_type": "markdown",
   "id": "411be50a",
   "metadata": {},
   "source": [
    "1. Загрузка исходных параметров:\n",
    "    - параметр 1\n",
    "    - параметр 2\n",
    "    - параметр 3\n",
    "2. Загрузка замеров в формате:\n",
    "\n",
    "[Дата-время], [Время в часах после остановки скважины], [Давление], [Производная давления по времени]\n",
    "\n",
    "3. Закрузка инклинометрии в формате:\n",
    "\n",
    "[Измеренная глубина], [Удлинение]\n",
    "\n",
    "\n",
    "4. Пересчет глубин:\n",
    "    - Глубины ВПД на вертикальную шкалу\n",
    "    - Глубины замера на вертикальную шкалу\n",
    "5. Расчет гидростатического давления\n",
    "6. Расчет дебита жидкости\n",
    "7. Построение графика индикаторной кривой\n",
    "8. Выделение интервала аппроксимации\n",
    "    - Ручное выделение интервала аппроксимации\n",
    "    - Автоматическое выделение интервала аппроксимации\n",
    "9. Расчет пластового давления (Рпл) и коэффициента продуктивности (Кпрод)"
   ]
  },
  {
   "cell_type": "markdown",
   "id": "c204a27e",
   "metadata": {},
   "source": [
    "# Реализация алгоритма обработки дифференциальным методом"
   ]
  },
  {
   "cell_type": "code",
   "execution_count": 1,
   "id": "35d95e1b",
   "metadata": {},
   "outputs": [],
   "source": [
    "# Библиотеки\n",
    "import numpy as np\n",
    "import pandas as pd\n",
    "\n",
    "import matplotlib.pyplot as plt\n",
    "\n",
    "from sklearn.linear_model import LinearRegression, TheilSenRegressor  # базовые линейные регрессоры\n",
    "from sklearn.linear_model import BayesianRidge, OrthogonalMatchingPursuit, TweedieRegressor # дополнительные\n",
    "from sklearn.linear_model import RANSACRegressor, ARDRegression, Lasso, Ridge, HuberRegressor\n",
    "\n",
    "from sklearn.metrics import r2_score\n",
    "\n",
    "import warnings\n",
    "\n",
    "from dataclasses import dataclass\n",
    "\n",
    "import logging"
   ]
  },
  {
   "cell_type": "code",
   "execution_count": 2,
   "id": "f1f7a1b8",
   "metadata": {},
   "outputs": [],
   "source": [
    "import json"
   ]
  },
  {
   "cell_type": "code",
   "execution_count": 2,
   "id": "cf334954",
   "metadata": {},
   "outputs": [],
   "source": [
    "warnings.filterwarnings('ignore')"
   ]
  },
  {
   "cell_type": "markdown",
   "id": "a1a36c79",
   "metadata": {},
   "source": [
    "## Исходные данные"
   ]
  },
  {
   "cell_type": "code",
   "execution_count": 3,
   "id": "12711f8c",
   "metadata": {},
   "outputs": [],
   "source": [
    "@dataclass\n",
    "class DiffData:\n",
    "    wct: float = 100  # обводненность %\n",
    "    q: float = 20  # дебит жидкости преред остановкой, м3/сут\n",
    "    use_q: bool = False  # Коррекция расчетного дебита на измеренный дебит перед остановкой\n",
    "    \n",
    "    pw: float = 218.08  # Забойное давление перед остановкой, ат.\n",
    "    rho_oil: float = 800  # Плотность нефти, кг/м3\n",
    "    rho_water: float = 1000  # Плотность воды, кг/м3\n",
    "    rho_inj: float = 1050  # Плотность жидкости закачки (для КПД), кг/м3        \n",
    "    rho_liq: float = -1  # Плотность жидкости \n",
    "    c_liq: float = 1e-5  # сжимаемость жидкости 1/ат.\n",
    "    d_nkt_in: float = 0.062  # Внутренний диаметр НКТ, м\n",
    "    d_nkt_out: float = 0.073  # Внешний диаметр НКТ, м\n",
    "    d_tube_in: float = 0.132  # Внутренний диаметр эксплуатационной колонны, м\n",
    "    md_vdp: float = 1000  # Измеренная глубина ВДП, м\n",
    "    md_device: float = 1000  # Измеренная глубина установки прибора, м\n",
    "    md_bottom: float = 1500  # Измеренная глубина забоя, м\n",
    "    wbs_type: str = 'НКТ' # Место уровня жидкости. \n",
    "    # Варианты: ['Затрубное пространство', 'НКТ', 'НКТ+затруб', 'Сжимаемость']\n",
    "    research_type: str = 'КПД'  # Вид исследования. Варианты: ['КПД', 'КВД', 'КВУ']\n",
    "    use_trajectory: bool = True  # Учитывать траекторию ствола скважины\n",
    "    p_is_vdp: bool = True  # давление задано на глубину ВДП    \n",
    "    tube_area: float = 0\n",
    "\n",
    "    # траектория\n",
    "    df_inkl: type(pd.DataFrame()) = pd.DataFrame(data={'md': [-10_000, 0, 10_000], 'elong': [0, 0, 0]})\n",
    "    # df_inkl['tvd'] = df_inkl.md - df_inkl.elong\n",
    "\n",
    "    tvd_vdp: float = 1000  # md_vdp  # глубина ВДП по вертикали\n",
    "    tvd_device: float = 1000  # md_device  # глубина прибора по вертикали\n",
    "\n",
    "    p_gs = 100 # гидростат, при необходимости можно заменить функцией. Пока так как есть.\n",
    "    \n",
    "    #calculate_changing_wbs_time(self)\n",
    "    # data = pd.DataFrame()\n",
    "    changing_wbs_time: float = -1  # Время изменения типа ВСС\n",
    "\n",
    "        \n",
    "class DiffAnalyse():\n",
    "    def __init__(self, diff_data: DiffData):\n",
    "        # constants\n",
    "        self.G = 9.80665  # ускорение свободного падения\n",
    "        \n",
    "        # variables\n",
    "        self.diff_data = diff_data\n",
    "        self.model_fitted = False\n",
    "        self.model = None\n",
    "        self.left_bound = 0\n",
    "        self.right_bound = -1\n",
    "        self.ipr_data = None\n",
    "        \n",
    "        # плотность жидкости\n",
    "        if diff_data.research_type == 'КПД':\n",
    "            self.diff_data.rho_liq = diff_data.rho_inj\n",
    "        else:\n",
    "            self.diff_data.rho_liq = (diff_data.wct*diff_data.rho_water + (100 - diff_data.wct)*diff_data.rho_oil)/100  \n",
    "        \n",
    "        # траектория\n",
    "        self.diff_data.df_inkl['tvd'] = diff_data.df_inkl.md - diff_data.df_inkl.elong\n",
    "        \n",
    "        # calculate_area(self)  # расчет площади поперечного сечения скважины\n",
    "        # расчет площади поперечного сечения места уровня жидкости\n",
    "        if diff_data.wbs_type == 'Затрубное пространство':\n",
    "            self.diff_data.tube_area = np.pi * (diff_data.d_tube_in**2 - diff_data.d_nkt_out**2)/4\n",
    "        elif diff_data.wbs_type == 'НКТ':\n",
    "            self.diff_data.tube_area = np.pi * (diff_data.d_nkt_in**2)/4\n",
    "        elif diff_data.wbs_type == 'НКТ+затруб':\n",
    "            self.diff_data.tube_area = np.pi * (diff_data.d_tube_in**2 - diff_data.d_nkt_out**2)/4 \n",
    "            + np.pi * (diff_data.d_nkt_in**2)/4\n",
    "        elif diff_data.wbs_type == 'Сжимаемость':  # по идее это ошибка\n",
    "            self.diff_data.tube_area = 1\n",
    "            # ToDo продумать логику выбора типа ВСС. Пока рассчитывается напрямую по уровню.\n",
    "        else:\n",
    "            self.diff_data.tube_area = 0\n",
    "            # raise error\n",
    "        \n",
    "        self.diff_data.tvd_vdp = self.tvd_by_md(diff_data.md_vdp)  # глубина ВДП по вертикали\n",
    "        self.diff_data.tvd_device = self.tvd_by_md(diff_data.md_device)  # глубина прибора по вертикали\n",
    "        \n",
    "        # расчет гидростата, при необходимости можно заменить функцией. Пока так как есть.\n",
    "        if self.diff_data.research_type == 'КПД':\n",
    "            diff_data.p_gs = diff_data.tvd_vdp*diff_data.rho_inj/10_000\n",
    "        else:\n",
    "            self.diff_data.p_gs = diff_data.tvd_vdp*diff_data.rho_liq/10_000\n",
    "            \n",
    "        #calculate_changing_wbs_time(self)\n",
    "        self.data = pd.DataFrame()\n",
    "        self.changing_wbs_time = -1\n",
    "        \n",
    "        \n",
    "        \n",
    "#     def calculate_area(self):\n",
    "#         # расчет площади поперечного сечения места уровня жидкости\n",
    "#         if self.wbs_type == 'Затрубное пространство':\n",
    "#             self.tube_area = np.pi * (self.d_tube_in**2 - self.d_nkt_out**2)/4\n",
    "#         elif self.wbs_type == 'НКТ':\n",
    "#             self.tube_area = np.pi * (self.d_nkt_in**2)/4\n",
    "#         elif self.wbs_type == 'НКТ+затруб':\n",
    "#             self.tube_area = np.pi * (self.d_tube_in**2 - self.d_nkt_out**2)/4 + np.pi * (self.d_nkt_in**2)/4\n",
    "#         elif self.wbs_type == 'Сжимаемость':  # по идее это ошибка\n",
    "#             self.tube_area = 1\n",
    "#             # ToDo продумать логику выбора типа ВСС. Пока рассчитывается напрямую по уровню.\n",
    "#         else:\n",
    "#             self.tube_area = 0\n",
    "#             # raise error\n",
    "        \n",
    "        \n",
    "    # предполагается, что данные отсортированы по md\n",
    "    # функция для расчета глубины по стволу при заданной глубине по вертикали \n",
    "    def md_by_tvd(self, tvd_value):\n",
    "        tvd_series = self.diff_data.df_inkl.tvd\n",
    "        md_series = self.diff_data.df_inkl.md\n",
    "        \n",
    "        idx = (tvd_series < tvd_value).argmin()\n",
    "        res = (tvd_value - tvd_series[idx-1])/(tvd_series[idx] - tvd_series[idx-1]) * (md_series[idx] - md_series[idx-1]) + md_series[idx-1] \n",
    "        return res    \n",
    "\n",
    "    \n",
    "    # функция для расчета глубины по стволу при заданной глубине по вертикали \n",
    "    def tvd_by_md(self, md_value):\n",
    "        tvd_series = self.diff_data.df_inkl.tvd\n",
    "        md_series = self.diff_data.df_inkl.md\n",
    "        \n",
    "        idx = (md_series < md_value).argmin()\n",
    "        res = (md_value - md_series[idx-1])*(tvd_series[idx] - tvd_series[idx-1]) / (md_series[idx] - md_series[idx-1]) + tvd_series[idx-1] \n",
    "        return res \n",
    "    \n",
    "    \n",
    "    # чтение замеров давления и производной из файла excel. \n",
    "    def read_pressure_data(self, filename):\n",
    "        df = pd.read_excel(filename)\n",
    "        df.columns = ['date_time', 'th', 'p', 'dp']\n",
    "        # n = df.shape[0]\n",
    "        df['delta_p'] = self.diff_data.pw - df.loc[:, 'p']  # расчет изменения давления относительно забойного давления\n",
    "        df['H_tvd'] = self.diff_data.tvd_vdp - df.p*self.G*10_000/(self.G*self.diff_data.rho_liq)  # расчет уровня жидкости в стволе скважины \n",
    "        # ToDo нужно учесть замеры уровнемером типа if self.research_type == 'КВУ'...\n",
    "        df['H_md'] = df['H_tvd'].apply(lambda x: self.md_by_tvd(x))\n",
    "        self.data = df\n",
    "    \n",
    "    \n",
    "    # расчет времени, когда изменился тип ВСС\n",
    "    def calculate_changing_wbs_time(self):\n",
    "        # Для КПД \n",
    "        changing_idx = (self.data['p'] < self.diff_data.p_gs).argmax()\n",
    "        self.diff_data.changing_wbs_time = self.data.th[changing_idx]\n",
    "        \n",
    "    \n",
    "    # вручную задать врмя изменения ВСС и пересчитать плотность\n",
    "    def set_changing_wbs_time(self, new_time):        \n",
    "        self.diff_data.changing_wbs_time = new_time        \n",
    "        df = self.data\n",
    "        d_min = (-df.dp*df.th).min()\n",
    "        d_max = (-df.dp*df.th).max()\n",
    "        # changing_idx = df[df.th > changing_wbs_time].iloc[0].name\n",
    "        changing_idx = (df.th > new_time).argmax()        \n",
    "        # Изменить плотность по данным\n",
    "        self.diff_data.rho_liq = df.p[changing_idx]*10_000/self.diff_data.tvd_vdp\n",
    "        self.diff_data.p_gs = self.diff_data.tvd_vdp*self.diff_data.rho_liq/10_000\n",
    "    \n",
    "    \n",
    "    # алгоритм автоматического определения Рпл дифф. методом\n",
    "    def fit_pressure_model(self, model=LinearRegression(), left_bound=0, min_point_count = 5, invert_axes=False):\n",
    "        # если поменять местами оси, то линия регрессии будет другой\n",
    "        if invert_axes:      \n",
    "            pass  # пока только для линейной регрессии, в разработке \n",
    "        else:\n",
    "            x_series = self.data['p']\n",
    "            y_series = self.data[['q']]\n",
    "            \n",
    "        max_score = 0\n",
    "        bound = left_bound\n",
    "        n = x_series.shape[0]  # пока правая граница равна крайней, позже можно будет использовать self.right_bound\n",
    "\n",
    "        # проверка данных на корректность\n",
    "        if n < 5:\n",
    "            print('Количество точек должно быть больше 5')\n",
    "            return\n",
    "        if min_point_count < 3:\n",
    "            min_point_count = 3\n",
    "            \n",
    "        if (left_bound < 1) or (left_bound > n - min_point_count):\n",
    "            left_bound = n - min_point_count\n",
    "\n",
    "        # ToDo нужна проверка данных на предмет вылетов на последних точках\n",
    "        # ToDo возможно нужно корректировать правую границу\n",
    "\n",
    "        # поиск \n",
    "        scores = []\n",
    "        lb_indexes = []\n",
    "        pressures = []\n",
    "        for i_bound in range(left_bound, n - min_point_count):\n",
    "            x = x_series[i_bound:]\n",
    "            y = y_series[i_bound:]\n",
    "    #         x = data[['dp']][i_bound:]\n",
    "    #         y = data.p[i_bound:]\n",
    "\n",
    "            model.fit(x, y)\n",
    "            line = model.predict(x)\n",
    "            score = r2_score(y, line)\n",
    "\n",
    "            scores.append(score)\n",
    "            lb_indexes.append(i_bound)\n",
    "            pressures.append(model.predict([[0]])[0])\n",
    "\n",
    "            if score > max_score:\n",
    "                max_score = score\n",
    "                best_bound = i_bound\n",
    "\n",
    "        model.fit(x_series[best_bound:], y_series[best_bound:])\n",
    "        df = pd.DataFrame(data={'lb_indexes': lb_indexes, \n",
    "                                'pressures': pressures, \n",
    "                                'scores': scores})\n",
    "        self.model_fitted = True\n",
    "        self.model = model\n",
    "        self.left_bound = best_bound\n",
    "        self.ipr_data = df\n",
    "        # return model, df, best_bound    \n",
    "\n",
    "    \n",
    "    def plot_loglog(self):\n",
    "        # changing_wbs_time = 1\n",
    "        df = self.data\n",
    "        \n",
    "        d_min = (-df.dp*df.th).min()\n",
    "        d_max = (-df.dp*df.th).max()\n",
    "        # changing_idx = (df.th > changing_wbs_time)[0]\n",
    "\n",
    "        plt.figure(figsize=(12, 8))\n",
    "        plt.scatter(df.th, df.delta_p, label='p')\n",
    "        plt.scatter(df.th, -df.dp*df.th, label='dp')\n",
    "        # plt.scatter(df.th, df.dp.diff()*df.th, label='d2')\n",
    "\n",
    "        plt.vlines(self.diff_data.changing_wbs_time, d_min, d_max, color='red', label='changing WBS')\n",
    "\n",
    "        plt.xscale('log')\n",
    "        plt.yscale('log')\n",
    "\n",
    "        plt.ylim(0.01, 100)\n",
    "        plt.xlim(.001, 1000)\n",
    "\n",
    "        plt.grid()\n",
    "        plt.legend()\n",
    "        plt.show()\n",
    "        \n",
    "        \n",
    "    def plot_complex(self):\n",
    "        df = self.data\n",
    "        fg, ax = plt.subplots(figsize=(12, 8), ncols=2, nrows=2)\n",
    "\n",
    "        g1 = ax[0, 0]\n",
    "        g1.scatter(df['q'], df.p)\n",
    "        g1.scatter(df['q'][bound:], df.p[bound:])\n",
    "        # g1.scatter(q, pw)\n",
    "        g1.set_xlabel('Q, м3/сут')\n",
    "        g1.set_ylabel('p, ат.')\n",
    "        g1.grid()\n",
    "\n",
    "\n",
    "        g2 = ax[0, 1]\n",
    "        g2.grid()\n",
    "        g1.sharey(g2)\n",
    "\n",
    "        # g22 = g2.twiny()\n",
    "        # g22.\n",
    "        g2.scatter(data.lb_indexes, data.pressures)\n",
    "        g2.scatter(data2.lb_indexes, data2.pressures)\n",
    "        g2.set_ylabel('pressure')\n",
    "        g2.set_xlabel('left bound')\n",
    "\n",
    "        g22 = g2.twinx()\n",
    "        # g22.secondary_yaxis('right')\n",
    "        g22.scatter(data.lb_indexes, data.scores, s=3)\n",
    "        g22.scatter(data2.lb_indexes, data2.scores, s=3)\n",
    "        # plt.ylim(0.8, 1)\n",
    "        g22.set_ylabel('R2 score')\n",
    "        g22.set_ylim(0, 1)\n",
    "        # plt.xlabel('left bound')\n",
    "\n",
    "        g3 = ax[1, 0]\n",
    "        g3.scatter(df.th, df.delta_p)\n",
    "        g3.scatter(df.th, -df.dp*df.th)\n",
    "        g3.scatter(df.th, df.dp.diff()*df.th, s=3)\n",
    "\n",
    "        g3.vlines(changing_wbs_time, d_min, d_max, color='red')\n",
    "\n",
    "        g3.set_xscale('log')\n",
    "        g3.set_yscale('log')\n",
    "\n",
    "        g3.set_ylim(0.01, 100)\n",
    "        g3.set_xlim(.001, 1000)\n",
    "\n",
    "        g3.set_ylabel('pressure')\n",
    "        g3.set_xlabel('time, h')\n",
    "\n",
    "        g3.grid()\n",
    "\n",
    "        g4 = ax[1, 1]\n",
    "        g4.scatter(df['th'], df['H_md'], s=1)\n",
    "        g4.hlines(0, 0.00001, 100, color='red')\n",
    "        max_h = df[\"H_md\"].max()\n",
    "        g4.text(0.1,max_h, f'max level = {max_h:.2f}')\n",
    "        g4.set_xscale('log')\n",
    "        g4.yaxis.set_inverted(True)\n",
    "        g4.set_ylabel('Level, m')\n",
    "        g4.set_xlabel('time, h')\n",
    "        g4.grid()"
   ]
  },
  {
   "cell_type": "code",
   "execution_count": 78,
   "id": "738ec462",
   "metadata": {},
   "outputs": [],
   "source": [
    "dd = DiffData(\n",
    "    wct=100,\n",
    "    q=15\n",
    ")"
   ]
  },
  {
   "cell_type": "code",
   "execution_count": 79,
   "id": "00c13289",
   "metadata": {},
   "outputs": [],
   "source": [
    "da = DiffAnalyse(dd)"
   ]
  },
  {
   "cell_type": "code",
   "execution_count": 80,
   "id": "3ed6ca92",
   "metadata": {},
   "outputs": [
    {
     "ename": "AttributeError",
     "evalue": "'DiffAnalyse' object has no attribute 'pw'",
     "output_type": "error",
     "traceback": [
      "\u001b[1;31m---------------------------------------------------------------------------\u001b[0m",
      "\u001b[1;31mAttributeError\u001b[0m                            Traceback (most recent call last)",
      "\u001b[1;32m~\\AppData\\Local\\Temp\\ipykernel_25640\\1278664012.py\u001b[0m in \u001b[0;36m<module>\u001b[1;34m\u001b[0m\n\u001b[0;32m      1\u001b[0m \u001b[1;31m# da.read_pressure_data('data/well_1.xlsx')\u001b[0m\u001b[1;33m\u001b[0m\u001b[1;33m\u001b[0m\u001b[0m\n\u001b[1;32m----> 2\u001b[1;33m \u001b[0mda\u001b[0m\u001b[1;33m.\u001b[0m\u001b[0mread_pressure_data\u001b[0m\u001b[1;33m(\u001b[0m\u001b[1;34m'data/well_774_ur.xlsx'\u001b[0m\u001b[1;33m)\u001b[0m\u001b[1;33m\u001b[0m\u001b[1;33m\u001b[0m\u001b[0m\n\u001b[0m",
      "\u001b[1;32m~\\AppData\\Local\\Temp\\ipykernel_25640\\2607080733.py\u001b[0m in \u001b[0;36mread_pressure_data\u001b[1;34m(self, filename)\u001b[0m\n\u001b[0;32m    130\u001b[0m         \u001b[0mdf\u001b[0m\u001b[1;33m.\u001b[0m\u001b[0mcolumns\u001b[0m \u001b[1;33m=\u001b[0m \u001b[1;33m[\u001b[0m\u001b[1;34m'date_time'\u001b[0m\u001b[1;33m,\u001b[0m \u001b[1;34m'th'\u001b[0m\u001b[1;33m,\u001b[0m \u001b[1;34m'p'\u001b[0m\u001b[1;33m,\u001b[0m \u001b[1;34m'dp'\u001b[0m\u001b[1;33m]\u001b[0m\u001b[1;33m\u001b[0m\u001b[1;33m\u001b[0m\u001b[0m\n\u001b[0;32m    131\u001b[0m         \u001b[1;31m# n = df.shape[0]\u001b[0m\u001b[1;33m\u001b[0m\u001b[1;33m\u001b[0m\u001b[0m\n\u001b[1;32m--> 132\u001b[1;33m         \u001b[0mdf\u001b[0m\u001b[1;33m[\u001b[0m\u001b[1;34m'delta_p'\u001b[0m\u001b[1;33m]\u001b[0m \u001b[1;33m=\u001b[0m \u001b[0mself\u001b[0m\u001b[1;33m.\u001b[0m\u001b[0mpw\u001b[0m \u001b[1;33m-\u001b[0m \u001b[0mdf\u001b[0m\u001b[1;33m.\u001b[0m\u001b[0mloc\u001b[0m\u001b[1;33m[\u001b[0m\u001b[1;33m:\u001b[0m\u001b[1;33m,\u001b[0m \u001b[1;34m'p'\u001b[0m\u001b[1;33m]\u001b[0m  \u001b[1;31m# расчет изменения давления относительно забойного давления\u001b[0m\u001b[1;33m\u001b[0m\u001b[1;33m\u001b[0m\u001b[0m\n\u001b[0m\u001b[0;32m    133\u001b[0m         \u001b[0mdf\u001b[0m\u001b[1;33m[\u001b[0m\u001b[1;34m'H_tvd'\u001b[0m\u001b[1;33m]\u001b[0m \u001b[1;33m=\u001b[0m \u001b[0mself\u001b[0m\u001b[1;33m.\u001b[0m\u001b[0mtvd_vdp\u001b[0m \u001b[1;33m-\u001b[0m \u001b[0mdf\u001b[0m\u001b[1;33m.\u001b[0m\u001b[0mp\u001b[0m\u001b[1;33m*\u001b[0m\u001b[0mself\u001b[0m\u001b[1;33m.\u001b[0m\u001b[0mG\u001b[0m\u001b[1;33m*\u001b[0m\u001b[1;36m10_000\u001b[0m\u001b[1;33m/\u001b[0m\u001b[1;33m(\u001b[0m\u001b[0mself\u001b[0m\u001b[1;33m.\u001b[0m\u001b[0mG\u001b[0m\u001b[1;33m*\u001b[0m\u001b[0mself\u001b[0m\u001b[1;33m.\u001b[0m\u001b[0mrho_liq\u001b[0m\u001b[1;33m)\u001b[0m  \u001b[1;31m# расчет уровня жидкости в стволе скважины\u001b[0m\u001b[1;33m\u001b[0m\u001b[1;33m\u001b[0m\u001b[0m\n\u001b[0;32m    134\u001b[0m         \u001b[1;31m# ToDo нужно учесть замеры уровнемером типа if self.research_type == 'КВУ'...\u001b[0m\u001b[1;33m\u001b[0m\u001b[1;33m\u001b[0m\u001b[0m\n",
      "\u001b[1;31mAttributeError\u001b[0m: 'DiffAnalyse' object has no attribute 'pw'"
     ]
    }
   ],
   "source": [
    "# da.read_pressure_data('data/well_1.xlsx')\n",
    "da.read_pressure_data('data/well_774_ur.xlsx')"
   ]
  },
  {
   "cell_type": "code",
   "execution_count": 60,
   "id": "c4d03e96",
   "metadata": {},
   "outputs": [],
   "source": [
    "da.calculate_changing_wbs_time()"
   ]
  },
  {
   "cell_type": "code",
   "execution_count": null,
   "id": "ce3f5c4d",
   "metadata": {},
   "outputs": [],
   "source": []
  },
  {
   "cell_type": "code",
   "execution_count": 104,
   "id": "6fc592c0",
   "metadata": {},
   "outputs": [
    {
     "data": {
      "text/plain": [
       "5"
      ]
     },
     "execution_count": 104,
     "metadata": {},
     "output_type": "execute_result"
    }
   ],
   "source": [
    "'frr  тут hi lksjlk'.lower().find(  'тут '.lower())"
   ]
  },
  {
   "cell_type": "code",
   "execution_count": null,
   "id": "895b7327",
   "metadata": {},
   "outputs": [],
   "source": []
  },
  {
   "cell_type": "code",
   "execution_count": null,
   "id": "0a1701a7",
   "metadata": {},
   "outputs": [],
   "source": []
  },
  {
   "cell_type": "code",
   "execution_count": null,
   "id": "74ecec32",
   "metadata": {},
   "outputs": [],
   "source": []
  },
  {
   "cell_type": "code",
   "execution_count": null,
   "id": "f1b99f2b",
   "metadata": {},
   "outputs": [],
   "source": []
  },
  {
   "cell_type": "code",
   "execution_count": 63,
   "id": "aa85f01d",
   "metadata": {},
   "outputs": [],
   "source": [
    "da.set_changing_wbs_time(2.5)"
   ]
  },
  {
   "cell_type": "code",
   "execution_count": 64,
   "id": "a7d330da",
   "metadata": {},
   "outputs": [
    {
     "data": {
      "image/png": "[encoded data removed]",
      "text/plain": [
       "<Figure size 1200x800 with 1 Axes>"
      ]
     },
     "metadata": {},
     "output_type": "display_data"
    }
   ],
   "source": [
    "da.plot_loglog()"
   ]
  },
  {
   "cell_type": "code",
   "execution_count": 65,
   "id": "d424e56a",
   "metadata": {},
   "outputs": [
    {
     "data": {
      "text/html": [
       "<div>\n",
       "<style scoped>\n",
       "    .dataframe tbody tr th:only-of-type {\n",
       "        vertical-align: middle;\n",
       "    }\n",
       "\n",
       "    .dataframe tbody tr th {\n",
       "        vertical-align: top;\n",
       "    }\n",
       "\n",
       "    .dataframe thead th {\n",
       "        text-align: right;\n",
       "    }\n",
       "</style>\n",
       "<table border=\"1\" class=\"dataframe\">\n",
       "  <thead>\n",
       "    <tr style=\"text-align: right;\">\n",
       "      <th></th>\n",
       "      <th>date_time</th>\n",
       "      <th>th</th>\n",
       "      <th>p</th>\n",
       "      <th>dp</th>\n",
       "      <th>delta_p</th>\n",
       "      <th>H_tvd</th>\n",
       "      <th>H_md</th>\n",
       "    </tr>\n",
       "  </thead>\n",
       "  <tbody>\n",
       "    <tr>\n",
       "      <th>0</th>\n",
       "      <td>2023-11-23 16:51:27</td>\n",
       "      <td>0.008406</td>\n",
       "      <td>210.040</td>\n",
       "      <td>-953.080534</td>\n",
       "      <td>8.040</td>\n",
       "      <td>-1000.380952</td>\n",
       "      <td>-1000.380952</td>\n",
       "    </tr>\n",
       "    <tr>\n",
       "      <th>1</th>\n",
       "      <td>2023-11-23 16:51:57</td>\n",
       "      <td>0.016739</td>\n",
       "      <td>206.336</td>\n",
       "      <td>-695.956534</td>\n",
       "      <td>11.744</td>\n",
       "      <td>-965.104762</td>\n",
       "      <td>-965.104762</td>\n",
       "    </tr>\n",
       "    <tr>\n",
       "      <th>2</th>\n",
       "      <td>2023-11-23 16:52:27</td>\n",
       "      <td>0.025073</td>\n",
       "      <td>204.158</td>\n",
       "      <td>-548.890842</td>\n",
       "      <td>13.922</td>\n",
       "      <td>-944.361905</td>\n",
       "      <td>-944.361905</td>\n",
       "    </tr>\n",
       "    <tr>\n",
       "      <th>3</th>\n",
       "      <td>2023-11-23 16:52:57</td>\n",
       "      <td>0.033406</td>\n",
       "      <td>202.080</td>\n",
       "      <td>-472.008812</td>\n",
       "      <td>16.000</td>\n",
       "      <td>-924.571429</td>\n",
       "      <td>-924.571429</td>\n",
       "    </tr>\n",
       "    <tr>\n",
       "      <th>4</th>\n",
       "      <td>2023-11-23 16:53:27</td>\n",
       "      <td>0.041739</td>\n",
       "      <td>200.002</td>\n",
       "      <td>-425.736619</td>\n",
       "      <td>18.078</td>\n",
       "      <td>-904.780952</td>\n",
       "      <td>-904.780952</td>\n",
       "    </tr>\n",
       "    <tr>\n",
       "      <th>...</th>\n",
       "      <td>...</td>\n",
       "      <td>...</td>\n",
       "      <td>...</td>\n",
       "      <td>...</td>\n",
       "      <td>...</td>\n",
       "      <td>...</td>\n",
       "      <td>...</td>\n",
       "    </tr>\n",
       "    <tr>\n",
       "      <th>308</th>\n",
       "      <td>2023-12-03 10:13:27</td>\n",
       "      <td>233.375073</td>\n",
       "      <td>132.814</td>\n",
       "      <td>-0.025913</td>\n",
       "      <td>85.266</td>\n",
       "      <td>-264.895238</td>\n",
       "      <td>-264.895238</td>\n",
       "    </tr>\n",
       "    <tr>\n",
       "      <th>309</th>\n",
       "      <td>2023-12-03 15:36:27</td>\n",
       "      <td>238.758406</td>\n",
       "      <td>132.674</td>\n",
       "      <td>-0.025894</td>\n",
       "      <td>85.406</td>\n",
       "      <td>-263.561905</td>\n",
       "      <td>-263.561905</td>\n",
       "    </tr>\n",
       "    <tr>\n",
       "      <th>310</th>\n",
       "      <td>2023-12-03 21:06:57</td>\n",
       "      <td>244.266739</td>\n",
       "      <td>132.532</td>\n",
       "      <td>-0.025409</td>\n",
       "      <td>85.548</td>\n",
       "      <td>-262.209524</td>\n",
       "      <td>-262.209524</td>\n",
       "    </tr>\n",
       "    <tr>\n",
       "      <th>311</th>\n",
       "      <td>2023-12-04 02:44:57</td>\n",
       "      <td>249.900073</td>\n",
       "      <td>132.391</td>\n",
       "      <td>-0.025001</td>\n",
       "      <td>85.689</td>\n",
       "      <td>-260.866667</td>\n",
       "      <td>-260.866667</td>\n",
       "    </tr>\n",
       "    <tr>\n",
       "      <th>312</th>\n",
       "      <td>2023-12-04 08:30:57</td>\n",
       "      <td>255.666739</td>\n",
       "      <td>132.247</td>\n",
       "      <td>-0.024942</td>\n",
       "      <td>85.833</td>\n",
       "      <td>-259.495238</td>\n",
       "      <td>-259.495238</td>\n",
       "    </tr>\n",
       "  </tbody>\n",
       "</table>\n",
       "<p>313 rows × 7 columns</p>\n",
       "</div>"
      ],
      "text/plain": [
       "              date_time          th        p          dp  delta_p  \\\n",
       "0   2023-11-23 16:51:27    0.008406  210.040 -953.080534    8.040   \n",
       "1   2023-11-23 16:51:57    0.016739  206.336 -695.956534   11.744   \n",
       "2   2023-11-23 16:52:27    0.025073  204.158 -548.890842   13.922   \n",
       "3   2023-11-23 16:52:57    0.033406  202.080 -472.008812   16.000   \n",
       "4   2023-11-23 16:53:27    0.041739  200.002 -425.736619   18.078   \n",
       "..                  ...         ...      ...         ...      ...   \n",
       "308 2023-12-03 10:13:27  233.375073  132.814   -0.025913   85.266   \n",
       "309 2023-12-03 15:36:27  238.758406  132.674   -0.025894   85.406   \n",
       "310 2023-12-03 21:06:57  244.266739  132.532   -0.025409   85.548   \n",
       "311 2023-12-04 02:44:57  249.900073  132.391   -0.025001   85.689   \n",
       "312 2023-12-04 08:30:57  255.666739  132.247   -0.024942   85.833   \n",
       "\n",
       "           H_tvd         H_md  \n",
       "0   -1000.380952 -1000.380952  \n",
       "1    -965.104762  -965.104762  \n",
       "2    -944.361905  -944.361905  \n",
       "3    -924.571429  -924.571429  \n",
       "4    -904.780952  -904.780952  \n",
       "..           ...          ...  \n",
       "308  -264.895238  -264.895238  \n",
       "309  -263.561905  -263.561905  \n",
       "310  -262.209524  -262.209524  \n",
       "311  -260.866667  -260.866667  \n",
       "312  -259.495238  -259.495238  \n",
       "\n",
       "[313 rows x 7 columns]"
      ]
     },
     "execution_count": 65,
     "metadata": {},
     "output_type": "execute_result"
    }
   ],
   "source": [
    "da.data"
   ]
  },
  {
   "cell_type": "code",
   "execution_count": null,
   "id": "593c92b2",
   "metadata": {},
   "outputs": [],
   "source": []
  },
  {
   "cell_type": "code",
   "execution_count": null,
   "id": "e2d2738e",
   "metadata": {},
   "outputs": [],
   "source": []
  },
  {
   "cell_type": "code",
   "execution_count": 96,
   "id": "676b92ca",
   "metadata": {},
   "outputs": [],
   "source": []
  },
  {
   "cell_type": "code",
   "execution_count": 66,
   "id": "89191d08",
   "metadata": {},
   "outputs": [],
   "source": [
    "# constants\n",
    "G = 9.80665  # ускорение свободного падения\n",
    "\n",
    "\n",
    "\n",
    "# WBS_DICT = {1: 'Затрубное пространство', 2: 'НКТ', 3: 'Сжимаемость'}"
   ]
  },
  {
   "cell_type": "code",
   "execution_count": 67,
   "id": "40b1ac68",
   "metadata": {},
   "outputs": [],
   "source": [
    "# input data\n",
    "wct = 100  # обводненность %\n",
    "\n",
    "q = 19.18  # дебит жидкости преред остановкой, м3/сут\n",
    "use_q = False  # Коррекция расчетного дебита на измеренный дебит перед остановкой\n",
    "\n",
    "pw = 218.007  # Забойное давление перед остановкой, ат.\n",
    "rho_oil = 896  # Плотность нефти, кг/м3\n",
    "rho_water = 1150  # Плотность воды, кг/м3\n",
    "rho_inj = 1150  # Плотность жидкости закачки (для КПД), кг/м3\n",
    "rho_liq = (wct*rho_water + (100 - wct)*rho_oil)/100  # Плотность добываемой жидкости, кг/м3\n",
    "\n",
    "c_liq = 3e-5  # сжимаемость жидкости 1/ат.\n",
    "\n",
    "d_nkt_in = 0.062  # Внутренний диаметр НКТ, м\n",
    "d_nkt_out = 0.073  # Внешний диаметр НКТ, м\n",
    "\n",
    "d_tube_in = 0.132  # Внутренний диаметр эксплуатационной колонны, м\n",
    "\n",
    "md_vdp = 1156  # Измеренная глубина ВДП, м\n",
    "md_device = 1156  # Измеренная глубина установки прибора, м\n",
    "md_bottom = 1400  # Измеренная глубина забоя, м\n",
    "\n",
    "\n",
    "wbs_type = 'НКТ' # Место уровня жидкости. Варианты: ['Затрубное пространство', 'НКТ', 'НКТ+затруб', 'Сжимаемость']\n",
    "\n",
    "research_type = 'КПД'  # Вид исследования. Варианты: ['КПД', 'КВД', 'КВУ']\n",
    "\n",
    "use_trajectory = True  # Учитывать траекторию ствола скважины\n",
    "\n",
    "p_is_vdp = True  # давление задано на глубину ВДП\n"
   ]
  },
  {
   "cell_type": "code",
   "execution_count": 68,
   "id": "cbe9d76f",
   "metadata": {},
   "outputs": [],
   "source": [
    "# расчет площади поперечного сечения места уровня жидкости\n",
    "if wbs_type == 'Затрубное пространство':\n",
    "    tube_area = np.pi * (d_tube_in**2 - d_nkt_out**2)/4\n",
    "elif wbs_type == 'НКТ':\n",
    "    tube_area = np.pi * (d_nkt_in**2)/4\n",
    "elif wbs_type == 'НКТ+затруб':\n",
    "    tube_area = np.pi * (d_tube_in**2 - d_nkt_out**2)/4 + np.pi * (d_nkt_in**2)/4\n",
    "elif wbs_type == 'Сжимаемость':  # по идее это ошибка\n",
    "    tube_area = 1\n",
    "    # ToDo продумать логику выбора типа ВСС. Пока рассчитывается напрямую по уровню.\n",
    "else:\n",
    "    tube_area = 0\n",
    "    # raise error\n",
    "\n",
    "\n",
    " # Варианты: ['Затрубное пространство', 'НКТ', 'Сжимаемость']"
   ]
  },
  {
   "cell_type": "code",
   "execution_count": 69,
   "id": "d8b246e0",
   "metadata": {},
   "outputs": [
    {
     "data": {
      "text/html": [
       "<div>\n",
       "<style scoped>\n",
       "    .dataframe tbody tr th:only-of-type {\n",
       "        vertical-align: middle;\n",
       "    }\n",
       "\n",
       "    .dataframe tbody tr th {\n",
       "        vertical-align: top;\n",
       "    }\n",
       "\n",
       "    .dataframe thead th {\n",
       "        text-align: right;\n",
       "    }\n",
       "</style>\n",
       "<table border=\"1\" class=\"dataframe\">\n",
       "  <thead>\n",
       "    <tr style=\"text-align: right;\">\n",
       "      <th></th>\n",
       "      <th>md</th>\n",
       "      <th>elong</th>\n",
       "      <th>tvd</th>\n",
       "    </tr>\n",
       "  </thead>\n",
       "  <tbody>\n",
       "    <tr>\n",
       "      <th>0</th>\n",
       "      <td>-10000</td>\n",
       "      <td>0.00</td>\n",
       "      <td>-10000.00</td>\n",
       "    </tr>\n",
       "    <tr>\n",
       "      <th>1</th>\n",
       "      <td>0</td>\n",
       "      <td>0.00</td>\n",
       "      <td>0.00</td>\n",
       "    </tr>\n",
       "    <tr>\n",
       "      <th>2</th>\n",
       "      <td>100</td>\n",
       "      <td>0.00</td>\n",
       "      <td>100.00</td>\n",
       "    </tr>\n",
       "    <tr>\n",
       "      <th>3</th>\n",
       "      <td>1070</td>\n",
       "      <td>35.44</td>\n",
       "      <td>1034.56</td>\n",
       "    </tr>\n",
       "    <tr>\n",
       "      <th>4</th>\n",
       "      <td>1156</td>\n",
       "      <td>36.80</td>\n",
       "      <td>1119.20</td>\n",
       "    </tr>\n",
       "    <tr>\n",
       "      <th>5</th>\n",
       "      <td>5000</td>\n",
       "      <td>36.90</td>\n",
       "      <td>4963.10</td>\n",
       "    </tr>\n",
       "  </tbody>\n",
       "</table>\n",
       "</div>"
      ],
      "text/plain": [
       "      md  elong       tvd\n",
       "0 -10000   0.00 -10000.00\n",
       "1      0   0.00      0.00\n",
       "2    100   0.00    100.00\n",
       "3   1070  35.44   1034.56\n",
       "4   1156  36.80   1119.20\n",
       "5   5000  36.90   4963.10"
      ]
     },
     "execution_count": 69,
     "metadata": {},
     "output_type": "execute_result"
    }
   ],
   "source": [
    "# траектория\n",
    "df_inkl = pd.DataFrame(data={\n",
    "    'md': [-10_000, 0, 100, 1_070, 1156, 5_000],\n",
    "    'elong': [0, 0, 0, 35.44, 36.8, 36.9]\n",
    "})\n",
    "df_inkl['tvd'] = df_inkl.md - df_inkl.elong\n",
    "df_inkl"
   ]
  },
  {
   "cell_type": "code",
   "execution_count": 70,
   "id": "58c7ce39",
   "metadata": {},
   "outputs": [],
   "source": [
    "# предполагается, что данные отсортированы по md\n",
    "# функция для расчета глубины по стволу при заданной глубине по вертикали \n",
    "def md_by_tvd(tvd_value, tvd_series, md_series):\n",
    "    idx = (tvd_series < tvd_value).argmin()\n",
    "    res = (tvd_value - tvd_series[idx-1])/(tvd_series[idx] - tvd_series[idx-1]) * (md_series[idx] - md_series[idx-1]) + md_series[idx-1] \n",
    "    return res"
   ]
  },
  {
   "cell_type": "code",
   "execution_count": 71,
   "id": "69d230a8",
   "metadata": {},
   "outputs": [],
   "source": [
    "# функция для расчет величины ВСС\n",
    "def wellbore_storage(p, dp, p_hs, ):\n",
    "    pass"
   ]
  },
  {
   "cell_type": "code",
   "execution_count": 72,
   "id": "27a4fdfa",
   "metadata": {},
   "outputs": [],
   "source": [
    "tvd_vdp = md_by_tvd(md_vdp, df_inkl.tvd, df_inkl.md)  # глубина ВДП по вертикали\n",
    "tvd_device = md_by_tvd(md_device, df_inkl.tvd, df_inkl.md)  # глубина прибора по вертикали\n"
   ]
  },
  {
   "cell_type": "code",
   "execution_count": 73,
   "id": "cb03b304",
   "metadata": {},
   "outputs": [
    {
     "data": {
      "text/plain": [
       "137.17211009651652"
      ]
     },
     "execution_count": 73,
     "metadata": {},
     "output_type": "execute_result"
    }
   ],
   "source": [
    "# Давление столба жидкости в полной скважине\n",
    "p_gs = tvd_vdp*rho_liq/10_000\n",
    "p_gs = tvd_vdp*rho_inj/10_000\n",
    "p_gs\n",
    "# test\n",
    "# rho_liq = 1200\n",
    "# p_gs = tvd_vdp*rho_liq/10_000\n",
    "# # p_gs = 150\n",
    "# p_gs"
   ]
  },
  {
   "cell_type": "code",
   "execution_count": null,
   "id": "ffbc6719",
   "metadata": {},
   "outputs": [],
   "source": []
  },
  {
   "cell_type": "code",
   "execution_count": 74,
   "id": "8549dba9",
   "metadata": {},
   "outputs": [],
   "source": [
    "df = pd.read_excel('data/well_1.xlsx')\n",
    "df.columns = ['date_time', 'th', 'p', 'dp']\n",
    "\n",
    "# df['dp'] = df.p.diff()/df.th.diff()\n",
    "# df['dp'][0] = -(pw - df.p[0])/df.th[0]\n",
    "\n",
    "n = df.shape[0]\n",
    "df['delta_p'] = pw - df.loc[:, 'p']  # расчет изменения давления относительно забойного давления\n",
    "df['H_tvd'] = tvd_vdp - df.p*G*10_000/(G*rho_liq)  # расчет уровня жидкости в стволе скважины \n",
    "# ToDo нужно учесть замеры уровнемером\n",
    "df['H_md'] = df['H_tvd'].apply(lambda x: md_by_tvd(x, df_inkl.tvd, df_inkl.md))"
   ]
  },
  {
   "cell_type": "code",
   "execution_count": null,
   "id": "62653730",
   "metadata": {},
   "outputs": [],
   "source": []
  },
  {
   "cell_type": "code",
   "execution_count": 75,
   "id": "6eef8073",
   "metadata": {},
   "outputs": [],
   "source": [
    "# Для КПД \n",
    "changing_idx = (df['p'] < p_gs).argmax()\n",
    "changing_wbs_time = df.th[changing_idx]"
   ]
  },
  {
   "cell_type": "code",
   "execution_count": null,
   "id": "9d1dfbd4",
   "metadata": {},
   "outputs": [],
   "source": []
  },
  {
   "cell_type": "code",
   "execution_count": 122,
   "id": "50b02240",
   "metadata": {},
   "outputs": [
    {
     "data": {
      "text/plain": [
       "1238.6140293420672"
      ]
     },
     "execution_count": 122,
     "metadata": {},
     "output_type": "execute_result"
    }
   ],
   "source": [
    "# Изменить плотность по данным\n",
    "changing_wbs_time = 2.6\n",
    "d_min = (-df.dp*df.th).min()\n",
    "d_max = (-df.dp*df.th).max()\n",
    "# changing_idx = df[df.th > changing_wbs_time].iloc[0].name\n",
    "changing_idx = (df.th > changing_wbs_time).argmax()\n",
    "df.p[changing_idx]\n",
    "\n",
    "# p_gs = tvd_vdp*rho_liq/10_000\n",
    "rho_liq = df.p[changing_idx]*10_000/tvd_vdp\n",
    "rho_liq"
   ]
  },
  {
   "cell_type": "code",
   "execution_count": 78,
   "id": "69e682d4",
   "metadata": {},
   "outputs": [
    {
     "data": {
      "image/png": "[encoded data removed]",
      "text/plain": [
       "<Figure size 1200x800 with 1 Axes>"
      ]
     },
     "metadata": {},
     "output_type": "display_data"
    }
   ],
   "source": [
    "# changing_wbs_time = 1\n",
    "d_min = (-df.dp*df.th).min()\n",
    "d_max = (-df.dp*df.th).max()\n",
    "# changing_idx = (df.th > changing_wbs_time)[0]\n",
    "\n",
    "plt.figure(figsize=(12, 8))\n",
    "plt.scatter(df.th, df.delta_p)\n",
    "plt.scatter(df.th, -df.dp*df.th)\n",
    "plt.scatter(df.th, df.dp.diff()*df.th)\n",
    "\n",
    "plt.vlines(changing_wbs_time, d_min, d_max, color='red')\n",
    "\n",
    "plt.xscale('log')\n",
    "plt.yscale('log')\n",
    "\n",
    "plt.ylim(0.01, 100)\n",
    "plt.xlim(.001, 1000)\n",
    "\n",
    "plt.grid()"
   ]
  },
  {
   "cell_type": "code",
   "execution_count": null,
   "id": "08f5d1a6",
   "metadata": {},
   "outputs": [],
   "source": []
  },
  {
   "cell_type": "code",
   "execution_count": 79,
   "id": "5cf10d08",
   "metadata": {},
   "outputs": [
    {
     "data": {
      "text/plain": [
       "-702.9120861172487"
      ]
     },
     "execution_count": 79,
     "metadata": {},
     "output_type": "execute_result"
    }
   ],
   "source": [
    "h_dyn = md_by_tvd(tvd_vdp - pw*G*10_000/(G*rho_liq), df_inkl.tvd, df_inkl.md)\n",
    "h_dyn"
   ]
  },
  {
   "cell_type": "code",
   "execution_count": 80,
   "id": "752d0d68",
   "metadata": {},
   "outputs": [
    {
     "data": {
      "text/html": [
       "<div>\n",
       "<style scoped>\n",
       "    .dataframe tbody tr th:only-of-type {\n",
       "        vertical-align: middle;\n",
       "    }\n",
       "\n",
       "    .dataframe tbody tr th {\n",
       "        vertical-align: top;\n",
       "    }\n",
       "\n",
       "    .dataframe thead th {\n",
       "        text-align: right;\n",
       "    }\n",
       "</style>\n",
       "<table border=\"1\" class=\"dataframe\">\n",
       "  <thead>\n",
       "    <tr style=\"text-align: right;\">\n",
       "      <th></th>\n",
       "      <th>date_time</th>\n",
       "      <th>th</th>\n",
       "      <th>p</th>\n",
       "      <th>dp</th>\n",
       "      <th>delta_p</th>\n",
       "      <th>H_tvd</th>\n",
       "      <th>H_md</th>\n",
       "      <th>diff_h</th>\n",
       "      <th>q</th>\n",
       "    </tr>\n",
       "  </thead>\n",
       "  <tbody>\n",
       "    <tr>\n",
       "      <th>0</th>\n",
       "      <td>2023-11-23 16:51:27</td>\n",
       "      <td>0.008406</td>\n",
       "      <td>210.040</td>\n",
       "      <td>-953.080534</td>\n",
       "      <td>7.967</td>\n",
       "      <td>-633.633825</td>\n",
       "      <td>-633.633825</td>\n",
       "      <td>8241.403281</td>\n",
       "      <td>0.120852</td>\n",
       "    </tr>\n",
       "    <tr>\n",
       "      <th>1</th>\n",
       "      <td>2023-11-23 16:51:57</td>\n",
       "      <td>0.016739</td>\n",
       "      <td>206.336</td>\n",
       "      <td>-695.956534</td>\n",
       "      <td>11.671</td>\n",
       "      <td>-601.425130</td>\n",
       "      <td>-601.425130</td>\n",
       "      <td>3865.043478</td>\n",
       "      <td>0.088248</td>\n",
       "    </tr>\n",
       "    <tr>\n",
       "      <th>2</th>\n",
       "      <td>2023-11-23 16:52:27</td>\n",
       "      <td>0.025073</td>\n",
       "      <td>204.158</td>\n",
       "      <td>-548.890842</td>\n",
       "      <td>13.849</td>\n",
       "      <td>-582.485999</td>\n",
       "      <td>-582.485999</td>\n",
       "      <td>2272.695652</td>\n",
       "      <td>0.069600</td>\n",
       "    </tr>\n",
       "    <tr>\n",
       "      <th>3</th>\n",
       "      <td>2023-11-23 16:52:57</td>\n",
       "      <td>0.033406</td>\n",
       "      <td>202.080</td>\n",
       "      <td>-472.008812</td>\n",
       "      <td>15.927</td>\n",
       "      <td>-564.416434</td>\n",
       "      <td>-564.416434</td>\n",
       "      <td>2168.347826</td>\n",
       "      <td>0.059851</td>\n",
       "    </tr>\n",
       "    <tr>\n",
       "      <th>4</th>\n",
       "      <td>2023-11-23 16:53:27</td>\n",
       "      <td>0.041739</td>\n",
       "      <td>200.002</td>\n",
       "      <td>-425.736619</td>\n",
       "      <td>18.005</td>\n",
       "      <td>-546.346869</td>\n",
       "      <td>-546.346869</td>\n",
       "      <td>2168.347826</td>\n",
       "      <td>0.053984</td>\n",
       "    </tr>\n",
       "    <tr>\n",
       "      <th>...</th>\n",
       "      <td>...</td>\n",
       "      <td>...</td>\n",
       "      <td>...</td>\n",
       "      <td>...</td>\n",
       "      <td>...</td>\n",
       "      <td>...</td>\n",
       "      <td>...</td>\n",
       "      <td>...</td>\n",
       "      <td>...</td>\n",
       "    </tr>\n",
       "    <tr>\n",
       "      <th>308</th>\n",
       "      <td>2023-12-03 10:13:27</td>\n",
       "      <td>233.375073</td>\n",
       "      <td>132.814</td>\n",
       "      <td>-0.025913</td>\n",
       "      <td>85.193</td>\n",
       "      <td>37.896610</td>\n",
       "      <td>37.896610</td>\n",
       "      <td>0.224546</td>\n",
       "      <td>0.000678</td>\n",
       "    </tr>\n",
       "    <tr>\n",
       "      <th>309</th>\n",
       "      <td>2023-12-03 15:36:27</td>\n",
       "      <td>238.758406</td>\n",
       "      <td>132.674</td>\n",
       "      <td>-0.025894</td>\n",
       "      <td>85.333</td>\n",
       "      <td>39.114001</td>\n",
       "      <td>39.114001</td>\n",
       "      <td>0.226141</td>\n",
       "      <td>0.000683</td>\n",
       "    </tr>\n",
       "    <tr>\n",
       "      <th>310</th>\n",
       "      <td>2023-12-03 21:06:57</td>\n",
       "      <td>244.266739</td>\n",
       "      <td>132.532</td>\n",
       "      <td>-0.025409</td>\n",
       "      <td>85.475</td>\n",
       "      <td>40.348783</td>\n",
       "      <td>40.348783</td>\n",
       "      <td>0.224166</td>\n",
       "      <td>0.000677</td>\n",
       "    </tr>\n",
       "    <tr>\n",
       "      <th>311</th>\n",
       "      <td>2023-12-04 02:44:57</td>\n",
       "      <td>249.900073</td>\n",
       "      <td>132.391</td>\n",
       "      <td>-0.025001</td>\n",
       "      <td>85.616</td>\n",
       "      <td>41.574870</td>\n",
       "      <td>41.574870</td>\n",
       "      <td>0.217649</td>\n",
       "      <td>0.000657</td>\n",
       "    </tr>\n",
       "    <tr>\n",
       "      <th>312</th>\n",
       "      <td>2023-12-04 08:30:57</td>\n",
       "      <td>255.666739</td>\n",
       "      <td>132.247</td>\n",
       "      <td>-0.024942</td>\n",
       "      <td>85.760</td>\n",
       "      <td>42.827044</td>\n",
       "      <td>42.827044</td>\n",
       "      <td>0.217140</td>\n",
       "      <td>0.000656</td>\n",
       "    </tr>\n",
       "  </tbody>\n",
       "</table>\n",
       "<p>313 rows × 9 columns</p>\n",
       "</div>"
      ],
      "text/plain": [
       "              date_time          th        p          dp  delta_p       H_tvd  \\\n",
       "0   2023-11-23 16:51:27    0.008406  210.040 -953.080534    7.967 -633.633825   \n",
       "1   2023-11-23 16:51:57    0.016739  206.336 -695.956534   11.671 -601.425130   \n",
       "2   2023-11-23 16:52:27    0.025073  204.158 -548.890842   13.849 -582.485999   \n",
       "3   2023-11-23 16:52:57    0.033406  202.080 -472.008812   15.927 -564.416434   \n",
       "4   2023-11-23 16:53:27    0.041739  200.002 -425.736619   18.005 -546.346869   \n",
       "..                  ...         ...      ...         ...      ...         ...   \n",
       "308 2023-12-03 10:13:27  233.375073  132.814   -0.025913   85.193   37.896610   \n",
       "309 2023-12-03 15:36:27  238.758406  132.674   -0.025894   85.333   39.114001   \n",
       "310 2023-12-03 21:06:57  244.266739  132.532   -0.025409   85.475   40.348783   \n",
       "311 2023-12-04 02:44:57  249.900073  132.391   -0.025001   85.616   41.574870   \n",
       "312 2023-12-04 08:30:57  255.666739  132.247   -0.024942   85.760   42.827044   \n",
       "\n",
       "           H_md       diff_h         q  \n",
       "0   -633.633825  8241.403281  0.120852  \n",
       "1   -601.425130  3865.043478  0.088248  \n",
       "2   -582.485999  2272.695652  0.069600  \n",
       "3   -564.416434  2168.347826  0.059851  \n",
       "4   -546.346869  2168.347826  0.053984  \n",
       "..          ...          ...       ...  \n",
       "308   37.896610     0.224546  0.000678  \n",
       "309   39.114001     0.226141  0.000683  \n",
       "310   40.348783     0.224166  0.000677  \n",
       "311   41.574870     0.217649  0.000657  \n",
       "312   42.827044     0.217140  0.000656  \n",
       "\n",
       "[313 rows x 9 columns]"
      ]
     },
     "execution_count": 80,
     "metadata": {},
     "output_type": "execute_result"
    }
   ],
   "source": [
    "df['diff_h'] = df.H_md.diff()/df.th.diff()\n",
    "df['diff_h'][0] = (df.H_md[0] - h_dyn)/df.th[0]\n",
    "\n",
    "key_h = (df['H_md']>0).astype('int')\n",
    "\n",
    "# df['q'] = -(df.dp*c_liq/(G*10_000)*md_bottom*tube_area)*(1-key_h) + (df.diff_h*tube_area/(G*rho_liq))*key_h\n",
    "df['q'] = -(df.dp*c_liq*md_bottom*tube_area)*(1-key_h) + (df.diff_h*tube_area)*key_h\n",
    "df['q'] = df['q']\n",
    "df"
   ]
  },
  {
   "cell_type": "code",
   "execution_count": 81,
   "id": "72dabe84",
   "metadata": {},
   "outputs": [
    {
     "data": {
      "text/plain": [
       "0.12853364664633501"
      ]
     },
     "execution_count": 81,
     "metadata": {},
     "output_type": "execute_result"
    }
   ],
   "source": [
    "v_total = (df['th'][df['H_md']>0].diff()*df['q'][df['H_md']>0]).sum()\n",
    "v_total"
   ]
  },
  {
   "cell_type": "code",
   "execution_count": 82,
   "id": "97348e74",
   "metadata": {},
   "outputs": [
    {
     "data": {
      "text/plain": [
       "1.0059456896479853"
      ]
     },
     "execution_count": 82,
     "metadata": {},
     "output_type": "execute_result"
    }
   ],
   "source": [
    "df['H_md'].max()*tube_area/v_total"
   ]
  },
  {
   "cell_type": "code",
   "execution_count": 83,
   "id": "0d16c0ca",
   "metadata": {},
   "outputs": [],
   "source": [
    "# 217.2*tube_area"
   ]
  },
  {
   "cell_type": "code",
   "execution_count": 84,
   "id": "cbcdee11",
   "metadata": {},
   "outputs": [
    {
     "data": {
      "image/png": "[encoded data removed]",
      "text/plain": [
       "<Figure size 640x480 with 1 Axes>"
      ]
     },
     "metadata": {},
     "output_type": "display_data"
    }
   ],
   "source": [
    "plt.scatter(df['th'], df['H_md'], s=1)\n",
    "plt.hlines(0, 0.00001, 100, color='red')\n",
    "plt.text(1,1, df['H_md'].max())\n",
    "plt.text(1,-50, df['H_md'].max()*tube_area)\n",
    "plt.xscale('log')"
   ]
  },
  {
   "cell_type": "code",
   "execution_count": null,
   "id": "e21e1003",
   "metadata": {},
   "outputs": [],
   "source": []
  },
  {
   "cell_type": "code",
   "execution_count": null,
   "id": "6510e380",
   "metadata": {},
   "outputs": [],
   "source": []
  },
  {
   "cell_type": "code",
   "execution_count": 85,
   "id": "28a4f04d",
   "metadata": {},
   "outputs": [
    {
     "data": {
      "text/plain": [
       "Text(0, 0.5, 'q, м3/сут')"
      ]
     },
     "execution_count": 85,
     "metadata": {},
     "output_type": "execute_result"
    },
    {
     "data": {
      "image/png": "[encoded data removed]",
      "text/plain": [
       "<Figure size 640x480 with 1 Axes>"
      ]
     },
     "metadata": {},
     "output_type": "display_data"
    }
   ],
   "source": [
    "plt.scatter(df['th'], df['q'], s=1)\n",
    "plt.hlines(0, 0.0001, 100, color='red')\n",
    "plt.vlines(0.75, 0.001, 110, color='green', linestyles='-')\n",
    "plt.xscale('log')\n",
    "plt.yscale('log')\n",
    "# plt.ylim(-0.0000001, 0)\n",
    "# plt.xlim(0, 100)\n",
    "plt.xlabel('t, час')\n",
    "plt.ylabel('q, м3/сут')"
   ]
  },
  {
   "cell_type": "code",
   "execution_count": 86,
   "id": "91068eb3",
   "metadata": {},
   "outputs": [
    {
     "data": {
      "image/png": "[encoded data removed]",
      "text/plain": [
       "<Figure size 640x480 with 1 Axes>"
      ]
     },
     "metadata": {},
     "output_type": "display_data"
    }
   ],
   "source": [
    "plt.scatter(df['th'], df['H_md'], s=1)\n",
    "plt.hlines(0, 0.00001, 100, color='red')\n",
    "plt.text(1,1, df['H_md'].max())\n",
    "plt.xscale('log')"
   ]
  },
  {
   "cell_type": "code",
   "execution_count": 87,
   "id": "4af679ee",
   "metadata": {},
   "outputs": [
    {
     "data": {
      "text/plain": [
       "count    313.000000\n",
       "mean       0.005960\n",
       "std        0.013241\n",
       "min        0.000006\n",
       "25%        0.000014\n",
       "50%        0.000677\n",
       "75%        0.005627\n",
       "max        0.120852\n",
       "Name: q, dtype: float64"
      ]
     },
     "execution_count": 87,
     "metadata": {},
     "output_type": "execute_result"
    }
   ],
   "source": [
    "df['q'].describe()"
   ]
  },
  {
   "cell_type": "code",
   "execution_count": 88,
   "id": "4fbd51a0",
   "metadata": {},
   "outputs": [
    {
     "data": {
      "image/png": "[encoded data removed]",
      "text/plain": [
       "<Figure size 640x480 with 1 Axes>"
      ]
     },
     "metadata": {},
     "output_type": "display_data"
    }
   ],
   "source": [
    "plt.scatter(df['th'], df['p'], s=1)\n",
    "plt.hlines(p_gs, 0.00001, 100, color='red')\n",
    "plt.hlines(150, 0.00001, 100, color='green')\n",
    "plt.xscale('log')"
   ]
  },
  {
   "cell_type": "code",
   "execution_count": null,
   "id": "e2254a66",
   "metadata": {},
   "outputs": [],
   "source": []
  },
  {
   "cell_type": "code",
   "execution_count": 190,
   "id": "7c5bde0d",
   "metadata": {},
   "outputs": [
    {
     "data": {
      "text/plain": [
       "1112.662996232976"
      ]
     },
     "execution_count": 190,
     "metadata": {},
     "output_type": "execute_result"
    }
   ],
   "source": [
    "changing_wbs_time = 1\n",
    "d_min = (-df.dp*df.th).min()\n",
    "d_max = (-df.dp*df.th).max()\n",
    "changing_idx = df[df.th > changing_wbs_time].iloc[0].name\n",
    "changing_idx\n",
    "df.p[changing_idx]\n",
    "\n",
    "# p_gs = tvd_vdp*rho_liq/10_000\n",
    "rho_liq = df.p[changing_idx]*10_000/tvd_vdp\n",
    "rho_liq"
   ]
  },
  {
   "cell_type": "code",
   "execution_count": null,
   "id": "e975cdae",
   "metadata": {},
   "outputs": [],
   "source": []
  },
  {
   "cell_type": "code",
   "execution_count": 178,
   "id": "f94290bb",
   "metadata": {},
   "outputs": [
    {
     "data": {
      "image/png": "[encoded data removed]",
      "text/plain": [
       "<Figure size 1200x800 with 1 Axes>"
      ]
     },
     "metadata": {},
     "output_type": "display_data"
    }
   ],
   "source": [
    "changing_wbs_time = 1\n",
    "d_min = (-df.dp*df.th).min()\n",
    "d_max = (-df.dp*df.th).max()\n",
    "changing_idx = (df.th > changing_wbs_time)[0]\n",
    "\n",
    "plt.figure(figsize=(12, 8))\n",
    "plt.scatter(df.th, df.delta_p)\n",
    "plt.scatter(df.th, -df.dp*df.th)\n",
    "plt.scatter(df.th, df.dp.diff()*df.th)\n",
    "\n",
    "plt.vlines(changing_wbs_time, d_min, d_max, color='red')\n",
    "\n",
    "plt.xscale('log')\n",
    "plt.yscale('log')\n",
    "\n",
    "plt.ylim(0.01, 100)\n",
    "plt.xlim(.001, 1000)\n",
    "\n",
    "plt.grid()"
   ]
  },
  {
   "cell_type": "code",
   "execution_count": 89,
   "id": "968e5f31",
   "metadata": {},
   "outputs": [],
   "source": [
    "left_bound = 2*n//3"
   ]
  },
  {
   "cell_type": "code",
   "execution_count": 90,
   "id": "cabd6bad",
   "metadata": {},
   "outputs": [
    {
     "data": {
      "text/plain": [
       "<matplotlib.collections.PathCollection at 0x1c5d6c0d8e0>"
      ]
     },
     "execution_count": 90,
     "metadata": {},
     "output_type": "execute_result"
    },
    {
     "data": {
      "image/png": "[encoded data removed]",
      "text/plain": [
       "<Figure size 640x480 with 1 Axes>"
      ]
     },
     "metadata": {},
     "output_type": "display_data"
    }
   ],
   "source": [
    "plt.scatter(df['q'], df.p)\n",
    "plt.scatter(df['q'][left_bound:], df.p[left_bound:])\n",
    "# plt.xlim(-1, 0)\n",
    "# plt.xlim(0, 0.01)\n",
    "# plt.ylim(130, 150)\n",
    "\n",
    "# plt.yscale('log')\n",
    "# plt.xscale('log')"
   ]
  },
  {
   "cell_type": "code",
   "execution_count": null,
   "id": "970634c3",
   "metadata": {},
   "outputs": [],
   "source": []
  },
  {
   "cell_type": "code",
   "execution_count": 91,
   "id": "d3e4bcb4",
   "metadata": {},
   "outputs": [],
   "source": [
    "# алгоритм автоматического определения Рпл дифф. методом\n",
    "def find_pressure_model(model, x_series, y_series, left_bound, min_point_count = 5, inv_axes=False):\n",
    "    max_score = 0\n",
    "    bound = left_bound\n",
    "    n = x_series.shape[0]\n",
    "    \n",
    "    # проверка данных на корректность\n",
    "    if min_point_count < 3:\n",
    "        min_point_count = 3\n",
    "    if (left_bound < 1) or (left_bound > n - min_point_count):\n",
    "        left_bound = n - min_point_count\n",
    "        \n",
    "    # ToDo нужна проверка данных на предмет вылетов на последних точках\n",
    "    # ToDo возможно нужно корректировать правую границу\n",
    "    \n",
    "    # поиск \n",
    "    scores = []\n",
    "    lb_indexes = []\n",
    "    pressures = []\n",
    "    for i_bound in range(left_bound, n - min_point_count):\n",
    "        x = x_series[i_bound:]\n",
    "        y = y_series[i_bound:]\n",
    "#         x = data[['dp']][i_bound:]\n",
    "#         y = data.p[i_bound:]\n",
    "\n",
    "        model.fit(x, y)\n",
    "        line = model.predict(x)\n",
    "        score = r2_score(y, line)\n",
    "        \n",
    "        scores.append(score)\n",
    "        lb_indexes.append(i_bound)\n",
    "        pressures.append(model.predict([[0]])[0])\n",
    "\n",
    "        if score > max_score:\n",
    "            max_score = score\n",
    "            bound = i_bound\n",
    "    \n",
    "    model.fit(x_series[bound:], y_series[bound:])\n",
    "    df = pd.DataFrame(data={'lb_indexes': lb_indexes, \n",
    "                            'pressures': pressures, \n",
    "                            'scores': scores})\n",
    "    return model, df, bound    \n",
    "        \n",
    "        "
   ]
  },
  {
   "cell_type": "code",
   "execution_count": 92,
   "id": "828b0168",
   "metadata": {},
   "outputs": [],
   "source": [
    "model = LinearRegression()"
   ]
  },
  {
   "cell_type": "code",
   "execution_count": null,
   "id": "e7497247",
   "metadata": {},
   "outputs": [],
   "source": []
  },
  {
   "cell_type": "code",
   "execution_count": 93,
   "id": "9d6a75d9",
   "metadata": {},
   "outputs": [],
   "source": [
    "model, data, bound = find_pressure_model(model, df[['q']], df.p, left_bound, min_point_count = 5)"
   ]
  },
  {
   "cell_type": "code",
   "execution_count": 94,
   "id": "aaf8d6ce",
   "metadata": {},
   "outputs": [],
   "source": [
    "# max_score"
   ]
  },
  {
   "cell_type": "code",
   "execution_count": 95,
   "id": "279b2fa7",
   "metadata": {},
   "outputs": [],
   "source": [
    "# model.fit(df[['dp']][bound:], df.p[bound:])"
   ]
  },
  {
   "cell_type": "code",
   "execution_count": 96,
   "id": "dc40adf9",
   "metadata": {},
   "outputs": [
    {
     "data": {
      "text/plain": [
       "(0.0, 0.1)"
      ]
     },
     "execution_count": 96,
     "metadata": {},
     "output_type": "execute_result"
    },
    {
     "data": {
      "image/png": "[encoded data removed]",
      "text/plain": [
       "<Figure size 640x480 with 1 Axes>"
      ]
     },
     "metadata": {},
     "output_type": "display_data"
    }
   ],
   "source": [
    "plt.scatter(df['q'], df.p)\n",
    "plt.scatter(df['q'][bound:], df.p[bound:])\n",
    "plt.plot([df['q'][bound], 0], model.predict([[df['q'][bound]], [0]]), c='red')\n",
    "plt.xlim(0, 0.1)"
   ]
  },
  {
   "cell_type": "code",
   "execution_count": 97,
   "id": "8b71a167",
   "metadata": {},
   "outputs": [
    {
     "data": {
      "text/html": [
       "<div>\n",
       "<style scoped>\n",
       "    .dataframe tbody tr th:only-of-type {\n",
       "        vertical-align: middle;\n",
       "    }\n",
       "\n",
       "    .dataframe tbody tr th {\n",
       "        vertical-align: top;\n",
       "    }\n",
       "\n",
       "    .dataframe thead th {\n",
       "        text-align: right;\n",
       "    }\n",
       "</style>\n",
       "<table border=\"1\" class=\"dataframe\">\n",
       "  <thead>\n",
       "    <tr style=\"text-align: right;\">\n",
       "      <th></th>\n",
       "      <th>lb_indexes</th>\n",
       "      <th>pressures</th>\n",
       "      <th>scores</th>\n",
       "    </tr>\n",
       "  </thead>\n",
       "  <tbody>\n",
       "    <tr>\n",
       "      <th>0</th>\n",
       "      <td>208</td>\n",
       "      <td>139.816250</td>\n",
       "      <td>0.604255</td>\n",
       "    </tr>\n",
       "    <tr>\n",
       "      <th>1</th>\n",
       "      <td>209</td>\n",
       "      <td>139.778124</td>\n",
       "      <td>0.603334</td>\n",
       "    </tr>\n",
       "    <tr>\n",
       "      <th>2</th>\n",
       "      <td>210</td>\n",
       "      <td>139.739652</td>\n",
       "      <td>0.602333</td>\n",
       "    </tr>\n",
       "    <tr>\n",
       "      <th>3</th>\n",
       "      <td>211</td>\n",
       "      <td>139.700838</td>\n",
       "      <td>0.601246</td>\n",
       "    </tr>\n",
       "    <tr>\n",
       "      <th>4</th>\n",
       "      <td>212</td>\n",
       "      <td>139.661678</td>\n",
       "      <td>0.600067</td>\n",
       "    </tr>\n",
       "    <tr>\n",
       "      <th>...</th>\n",
       "      <td>...</td>\n",
       "      <td>...</td>\n",
       "      <td>...</td>\n",
       "    </tr>\n",
       "    <tr>\n",
       "      <th>95</th>\n",
       "      <td>303</td>\n",
       "      <td>124.977585</td>\n",
       "      <td>0.929665</td>\n",
       "    </tr>\n",
       "    <tr>\n",
       "      <th>96</th>\n",
       "      <td>304</td>\n",
       "      <td>124.480389</td>\n",
       "      <td>0.913066</td>\n",
       "    </tr>\n",
       "    <tr>\n",
       "      <th>97</th>\n",
       "      <td>305</td>\n",
       "      <td>122.911778</td>\n",
       "      <td>0.925435</td>\n",
       "    </tr>\n",
       "    <tr>\n",
       "      <th>98</th>\n",
       "      <td>306</td>\n",
       "      <td>123.245179</td>\n",
       "      <td>0.892892</td>\n",
       "    </tr>\n",
       "    <tr>\n",
       "      <th>99</th>\n",
       "      <td>307</td>\n",
       "      <td>121.687207</td>\n",
       "      <td>0.863008</td>\n",
       "    </tr>\n",
       "  </tbody>\n",
       "</table>\n",
       "<p>100 rows × 3 columns</p>\n",
       "</div>"
      ],
      "text/plain": [
       "    lb_indexes   pressures    scores\n",
       "0          208  139.816250  0.604255\n",
       "1          209  139.778124  0.603334\n",
       "2          210  139.739652  0.602333\n",
       "3          211  139.700838  0.601246\n",
       "4          212  139.661678  0.600067\n",
       "..         ...         ...       ...\n",
       "95         303  124.977585  0.929665\n",
       "96         304  124.480389  0.913066\n",
       "97         305  122.911778  0.925435\n",
       "98         306  123.245179  0.892892\n",
       "99         307  121.687207  0.863008\n",
       "\n",
       "[100 rows x 3 columns]"
      ]
     },
     "execution_count": 97,
     "metadata": {},
     "output_type": "execute_result"
    }
   ],
   "source": [
    "data"
   ]
  },
  {
   "cell_type": "code",
   "execution_count": 98,
   "id": "c091fea3",
   "metadata": {},
   "outputs": [
    {
     "data": {
      "text/plain": [
       "<matplotlib.collections.PathCollection at 0x1c5d6ad5670>"
      ]
     },
     "execution_count": 98,
     "metadata": {},
     "output_type": "execute_result"
    },
    {
     "data": {
      "image/png": "[encoded data removed]",
      "text/plain": [
       "<Figure size 640x480 with 1 Axes>"
      ]
     },
     "metadata": {},
     "output_type": "display_data"
    }
   ],
   "source": [
    "plt.scatter(data.lb_indexes, data.pressures)\n"
   ]
  },
  {
   "cell_type": "code",
   "execution_count": 99,
   "id": "682f495a",
   "metadata": {},
   "outputs": [
    {
     "data": {
      "text/plain": [
       "(0.8, 1.0)"
      ]
     },
     "execution_count": 99,
     "metadata": {},
     "output_type": "execute_result"
    },
    {
     "data": {
      "image/png": "[encoded data removed]",
      "text/plain": [
       "<Figure size 640x480 with 1 Axes>"
      ]
     },
     "metadata": {},
     "output_type": "display_data"
    }
   ],
   "source": [
    "plt.scatter(data.lb_indexes, data.scores)\n",
    "plt.ylim(0.8, 1)"
   ]
  },
  {
   "cell_type": "code",
   "execution_count": null,
   "id": "b3f1ac64",
   "metadata": {},
   "outputs": [],
   "source": []
  },
  {
   "cell_type": "code",
   "execution_count": 100,
   "id": "db3af56e",
   "metadata": {},
   "outputs": [],
   "source": [
    "model2 = TheilSenRegressor()\n",
    "# model2 = RANSACRegressor()\n",
    "# model2 = ARDRegression()\n",
    "# model2 = BayesianRidge()\n",
    "# model2 = OrthogonalMatchingPursuit()\n",
    "# model2 = TweedieRegressor(alpha=0.001)\n",
    "# model2 = Ridge(alpha=0.1)"
   ]
  },
  {
   "cell_type": "code",
   "execution_count": 101,
   "id": "2be89cf5",
   "metadata": {},
   "outputs": [],
   "source": [
    "model2, data2, bound2 = find_pressure_model(model2, df[['q']], df.p, left_bound, min_point_count = 5)"
   ]
  },
  {
   "cell_type": "code",
   "execution_count": 102,
   "id": "63a641b5",
   "metadata": {},
   "outputs": [
    {
     "data": {
      "text/plain": [
       "0.2095944560161565"
      ]
     },
     "execution_count": 102,
     "metadata": {},
     "output_type": "execute_result"
    }
   ],
   "source": [
    "p_pl_1 = model.predict([[0]])[0]\n",
    "p_pl_2 = model2.predict([[0]])[0]\n",
    "\n",
    "q/(pw - p_pl_1)"
   ]
  },
  {
   "cell_type": "code",
   "execution_count": 103,
   "id": "c5cf779b",
   "metadata": {},
   "outputs": [
    {
     "data": {
      "text/plain": [
       "126.49694594341028"
      ]
     },
     "execution_count": 103,
     "metadata": {},
     "output_type": "execute_result"
    }
   ],
   "source": [
    "p_pl_1"
   ]
  },
  {
   "cell_type": "code",
   "execution_count": null,
   "id": "661f056b",
   "metadata": {},
   "outputs": [],
   "source": []
  },
  {
   "cell_type": "code",
   "execution_count": 162,
   "id": "fadec995",
   "metadata": {},
   "outputs": [
    {
     "data": {
      "image/png": "[encoded data removed]",
      "text/plain": [
       "<Figure size 1200x800 with 5 Axes>"
      ]
     },
     "metadata": {},
     "output_type": "display_data"
    }
   ],
   "source": [
    "fg, ax = plt.subplots(figsize=(12, 8), ncols=2, nrows=2)\n",
    "\n",
    "g1 = ax[0, 0]\n",
    "g1.scatter(df['q'], df.p)\n",
    "g1.scatter(df['q'][bound:], df.p[bound:])\n",
    "# g1.scatter(q, pw)\n",
    "g1.set_xlabel('Q, м3/сут')\n",
    "g1.set_ylabel('p, ат.')\n",
    "g1.grid()\n",
    "\n",
    "\n",
    "g2 = ax[0, 1]\n",
    "g2.grid()\n",
    "g1.sharey(g2)\n",
    "\n",
    "# g22 = g2.twiny()\n",
    "# g22.\n",
    "g2.scatter(data.lb_indexes, data.pressures)\n",
    "g2.scatter(data2.lb_indexes, data2.pressures)\n",
    "g2.set_ylabel('pressure')\n",
    "g2.set_xlabel('left bound')\n",
    "\n",
    "g22 = g2.twinx()\n",
    "# g22.secondary_yaxis('right')\n",
    "g22.scatter(data.lb_indexes, data.scores, s=3)\n",
    "g22.scatter(data2.lb_indexes, data2.scores, s=3)\n",
    "# plt.ylim(0.8, 1)\n",
    "g22.set_ylabel('R2 score')\n",
    "g22.set_ylim(0, 1)\n",
    "# plt.xlabel('left bound')\n",
    "\n",
    "g3 = ax[1, 0]\n",
    "g3.scatter(df.th, df.delta_p)\n",
    "g3.scatter(df.th, -df.dp*df.th)\n",
    "g3.scatter(df.th, df.dp.diff()*df.th, s=3)\n",
    "\n",
    "g3.vlines(changing_wbs_time, d_min, d_max, color='red')\n",
    "\n",
    "g3.set_xscale('log')\n",
    "g3.set_yscale('log')\n",
    "\n",
    "g3.set_ylim(0.01, 100)\n",
    "g3.set_xlim(.001, 1000)\n",
    "\n",
    "g3.set_ylabel('pressure')\n",
    "g3.set_xlabel('time, h')\n",
    "\n",
    "g3.grid()\n",
    "\n",
    "g4 = ax[1, 1]\n",
    "g4.scatter(df['th'], df['H_md'], s=1)\n",
    "g4.hlines(0, 0.00001, 100, color='red')\n",
    "max_h = df[\"H_md\"].max()\n",
    "g4.text(0.1,max_h, f'max level = {max_h:.2f}')\n",
    "g4.set_xscale('log')\n",
    "g4.yaxis.set_inverted(True)\n",
    "g4.set_ylabel('Level, m')\n",
    "g4.set_xlabel('time, h')\n",
    "g4.grid()"
   ]
  },
  {
   "cell_type": "code",
   "execution_count": null,
   "id": "6b4a03a1",
   "metadata": {},
   "outputs": [],
   "source": []
  },
  {
   "cell_type": "code",
   "execution_count": 108,
   "id": "f341944d",
   "metadata": {},
   "outputs": [
    {
     "data": {
      "text/plain": [
       "[<matplotlib.lines.Line2D at 0x1c5d838a550>]"
      ]
     },
     "execution_count": 108,
     "metadata": {},
     "output_type": "execute_result"
    },
    {
     "data": {
      "image/png": "[encoded data removed]",
      "text/plain": [
       "<Figure size 640x480 with 1 Axes>"
      ]
     },
     "metadata": {},
     "output_type": "display_data"
    }
   ],
   "source": [
    "delta = 26\n",
    "\n",
    "plt.scatter(df['q'], df.p)\n",
    "plt.scatter(df['q'][bound:], df.p[bound:])\n",
    "plt.scatter(q, pw)\n",
    "plt.plot([df['q'][bound], 0], model.predict([[df['q'][bound]], [0]]), c='red')\n",
    "plt.plot([df['q'][bound2], 0], model2.predict([[df['q'][bound2]], [0]]), c='green')\n",
    "plt.plot([0, q], [p_pl_1, pw])\n",
    "plt.plot([0, q], [p_pl_1+delta, pw+delta])\n",
    "\n",
    "# plt.xlim(0, 0.3)\n",
    "# plt.ylim(120, 160)"
   ]
  },
  {
   "cell_type": "code",
   "execution_count": 105,
   "id": "87d9b06a",
   "metadata": {},
   "outputs": [
    {
     "data": {
      "text/plain": [
       "Text(0.5, 0, 'left bound')"
      ]
     },
     "execution_count": 105,
     "metadata": {},
     "output_type": "execute_result"
    },
    {
     "data": {
      "image/png": "[encoded data removed]",
      "text/plain": [
       "<Figure size 640x480 with 1 Axes>"
      ]
     },
     "metadata": {},
     "output_type": "display_data"
    }
   ],
   "source": [
    "plt.scatter(data.lb_indexes, data.pressures)\n",
    "plt.scatter(data2.lb_indexes, data2.pressures)\n",
    "plt.ylabel('pressure')\n",
    "plt.xlabel('left bound')"
   ]
  },
  {
   "cell_type": "code",
   "execution_count": 106,
   "id": "dba2f020",
   "metadata": {},
   "outputs": [
    {
     "data": {
      "text/plain": [
       "Text(0.5, 0, 'left bound')"
      ]
     },
     "execution_count": 106,
     "metadata": {},
     "output_type": "execute_result"
    },
    {
     "data": {
      "image/png": "[encoded data removed]",
      "text/plain": [
       "<Figure size 640x480 with 1 Axes>"
      ]
     },
     "metadata": {},
     "output_type": "display_data"
    }
   ],
   "source": [
    "plt.scatter(data.lb_indexes, data.scores)\n",
    "plt.scatter(data2.lb_indexes, data2.scores)\n",
    "# plt.ylim(0.8, 1)\n",
    "plt.ylabel('R2 score')\n",
    "plt.xlabel('left bound')"
   ]
  },
  {
   "cell_type": "code",
   "execution_count": null,
   "id": "33304bc1",
   "metadata": {},
   "outputs": [],
   "source": []
  },
  {
   "cell_type": "code",
   "execution_count": null,
   "id": "7ca7612d",
   "metadata": {},
   "outputs": [],
   "source": []
  },
  {
   "cell_type": "code",
   "execution_count": 159,
   "id": "b26adb2b",
   "metadata": {},
   "outputs": [],
   "source": [
    "df2 = pd.read_excel('data/w1_o.xlsx', sheet_name='Заключение')"
   ]
  },
  {
   "cell_type": "code",
   "execution_count": 163,
   "id": "2dadd26f",
   "metadata": {},
   "outputs": [
    {
     "data": {
      "text/html": [
       "<div>\n",
       "<style scoped>\n",
       "    .dataframe tbody tr th:only-of-type {\n",
       "        vertical-align: middle;\n",
       "    }\n",
       "\n",
       "    .dataframe tbody tr th {\n",
       "        vertical-align: top;\n",
       "    }\n",
       "\n",
       "    .dataframe thead th {\n",
       "        text-align: right;\n",
       "    }\n",
       "</style>\n",
       "<table border=\"1\" class=\"dataframe\">\n",
       "  <thead>\n",
       "    <tr style=\"text-align: right;\">\n",
       "      <th></th>\n",
       "      <th>Заключение</th>\n",
       "      <th>Unnamed: 1</th>\n",
       "      <th>Unnamed: 2</th>\n",
       "      <th>Unnamed: 3</th>\n",
       "      <th>Unnamed: 4</th>\n",
       "    </tr>\n",
       "  </thead>\n",
       "  <tbody>\n",
       "    <tr>\n",
       "      <th>0</th>\n",
       "      <td>по результатам гидродинамического исследования</td>\n",
       "      <td>NaN</td>\n",
       "      <td>NaN</td>\n",
       "      <td>NaN</td>\n",
       "      <td>Билогарифмический график</td>\n",
       "    </tr>\n",
       "    <tr>\n",
       "      <th>1</th>\n",
       "      <td>Исходные данные для исследования</td>\n",
       "      <td>NaN</td>\n",
       "      <td>NaN</td>\n",
       "      <td>NaN</td>\n",
       "      <td>NaN</td>\n",
       "    </tr>\n",
       "    <tr>\n",
       "      <th>2</th>\n",
       "      <td>ДО</td>\n",
       "      <td>NaN</td>\n",
       "      <td>ПАО АНК «Башнефть»</td>\n",
       "      <td>NaN</td>\n",
       "      <td>NaN</td>\n",
       "    </tr>\n",
       "    <tr>\n",
       "      <th>3</th>\n",
       "      <td>Регион</td>\n",
       "      <td>NaN</td>\n",
       "      <td>БНД-Туймазанефть</td>\n",
       "      <td>NaN</td>\n",
       "      <td>NaN</td>\n",
       "    </tr>\n",
       "    <tr>\n",
       "      <th>4</th>\n",
       "      <td>ЦДНГ</td>\n",
       "      <td>NaN</td>\n",
       "      <td>ТЦДНГ 03</td>\n",
       "      <td>NaN</td>\n",
       "      <td>NaN</td>\n",
       "    </tr>\n",
       "    <tr>\n",
       "      <th>5</th>\n",
       "      <td>Месторождение</td>\n",
       "      <td>NaN</td>\n",
       "      <td>ТУЙМАЗИНСКОЕ</td>\n",
       "      <td>NaN</td>\n",
       "      <td>NaN</td>\n",
       "    </tr>\n",
       "    <tr>\n",
       "      <th>6</th>\n",
       "      <td>Территория работ</td>\n",
       "      <td>NaN</td>\n",
       "      <td>ТУЙМАЗИНСКАЯ ПЛОЩАДЬ</td>\n",
       "      <td>NaN</td>\n",
       "      <td>NaN</td>\n",
       "    </tr>\n",
       "    <tr>\n",
       "      <th>7</th>\n",
       "      <td>Куст</td>\n",
       "      <td>NaN</td>\n",
       "      <td>1785</td>\n",
       "      <td>NaN</td>\n",
       "      <td>NaN</td>\n",
       "    </tr>\n",
       "    <tr>\n",
       "      <th>8</th>\n",
       "      <td>Скважина</td>\n",
       "      <td>NaN</td>\n",
       "      <td>2568</td>\n",
       "      <td>NaN</td>\n",
       "      <td>NaN</td>\n",
       "    </tr>\n",
       "    <tr>\n",
       "      <th>9</th>\n",
       "      <td>Вид исследования</td>\n",
       "      <td>NaN</td>\n",
       "      <td>КПД</td>\n",
       "      <td>NaN</td>\n",
       "      <td>NaN</td>\n",
       "    </tr>\n",
       "    <tr>\n",
       "      <th>10</th>\n",
       "      <td>Цели исследования</td>\n",
       "      <td>NaN</td>\n",
       "      <td>Рпл, kпрод, k, Skin</td>\n",
       "      <td>NaN</td>\n",
       "      <td>NaN</td>\n",
       "    </tr>\n",
       "    <tr>\n",
       "      <th>11</th>\n",
       "      <td>Дата получения заявки</td>\n",
       "      <td>NaN</td>\n",
       "      <td>08.12.2023 10:39</td>\n",
       "      <td>NaN</td>\n",
       "      <td>NaN</td>\n",
       "    </tr>\n",
       "    <tr>\n",
       "      <th>12</th>\n",
       "      <td>Вид ГДИС по технологии</td>\n",
       "      <td>NaN</td>\n",
       "      <td>КПД глуб</td>\n",
       "      <td>NaN</td>\n",
       "      <td>NaN</td>\n",
       "    </tr>\n",
       "    <tr>\n",
       "      <th>13</th>\n",
       "      <td>Место установки измерительного прибора</td>\n",
       "      <td>NaN</td>\n",
       "      <td>Cтвол скважины</td>\n",
       "      <td>NaN</td>\n",
       "      <td>NaN</td>\n",
       "    </tr>\n",
       "    <tr>\n",
       "      <th>14</th>\n",
       "      <td>Тип измерительного прибора</td>\n",
       "      <td>NaN</td>\n",
       "      <td>Глубинный манометр</td>\n",
       "      <td>NaN</td>\n",
       "      <td>NaN</td>\n",
       "    </tr>\n",
       "    <tr>\n",
       "      <th>15</th>\n",
       "      <td>Дата начала исследования (план)</td>\n",
       "      <td>NaN</td>\n",
       "      <td>08.12.2023 11:00</td>\n",
       "      <td>NaN</td>\n",
       "      <td>NaN</td>\n",
       "    </tr>\n",
       "    <tr>\n",
       "      <th>16</th>\n",
       "      <td>Основные сведения по скважине</td>\n",
       "      <td>NaN</td>\n",
       "      <td>NaN</td>\n",
       "      <td>NaN</td>\n",
       "      <td>NaN</td>\n",
       "    </tr>\n",
       "    <tr>\n",
       "      <th>17</th>\n",
       "      <td>Характер работы</td>\n",
       "      <td>NaN</td>\n",
       "      <td>НАГ</td>\n",
       "      <td>NaN</td>\n",
       "      <td>NaN</td>\n",
       "    </tr>\n",
       "    <tr>\n",
       "      <th>18</th>\n",
       "      <td>Тип скважины</td>\n",
       "      <td>NaN</td>\n",
       "      <td>наклон-направлен.</td>\n",
       "      <td>NaN</td>\n",
       "      <td>NaN</td>\n",
       "    </tr>\n",
       "    <tr>\n",
       "      <th>19</th>\n",
       "      <td>Способ эксплуатации</td>\n",
       "      <td>NaN</td>\n",
       "      <td>NaN</td>\n",
       "      <td>NaN</td>\n",
       "      <td>NaN</td>\n",
       "    </tr>\n",
       "    <tr>\n",
       "      <th>20</th>\n",
       "      <td>Подземное оборудование</td>\n",
       "      <td>NaN</td>\n",
       "      <td>NaN</td>\n",
       "      <td>NaN</td>\n",
       "      <td>NaN</td>\n",
       "    </tr>\n",
       "    <tr>\n",
       "      <th>21</th>\n",
       "      <td>Диаметр НКТ внутр.</td>\n",
       "      <td>мм</td>\n",
       "      <td>62.0</td>\n",
       "      <td>NaN</td>\n",
       "      <td>NaN</td>\n",
       "    </tr>\n",
       "    <tr>\n",
       "      <th>22</th>\n",
       "      <td>Альтитуда стола ротора</td>\n",
       "      <td>м\\t</td>\n",
       "      <td>174.56</td>\n",
       "      <td>NaN</td>\n",
       "      <td>Полулогарифмический график</td>\n",
       "    </tr>\n",
       "    <tr>\n",
       "      <th>23</th>\n",
       "      <td>Оборудование низа НКТ</td>\n",
       "      <td>NaN</td>\n",
       "      <td>Пакер</td>\n",
       "      <td>NaN</td>\n",
       "      <td>NaN</td>\n",
       "    </tr>\n",
       "    <tr>\n",
       "      <th>24</th>\n",
       "      <td>Внутренний радиус Э/К</td>\n",
       "      <td>мм</td>\n",
       "      <td>66.0</td>\n",
       "      <td>NaN</td>\n",
       "      <td>NaN</td>\n",
       "    </tr>\n",
       "    <tr>\n",
       "      <th>25</th>\n",
       "      <td>Поверхностная температура</td>\n",
       "      <td>°C</td>\n",
       "      <td>NaN</td>\n",
       "      <td>NaN</td>\n",
       "      <td>NaN</td>\n",
       "    </tr>\n",
       "    <tr>\n",
       "      <th>26</th>\n",
       "      <td>Газовый фактор</td>\n",
       "      <td>м3/т</td>\n",
       "      <td>21.00</td>\n",
       "      <td>NaN</td>\n",
       "      <td>NaN</td>\n",
       "    </tr>\n",
       "    <tr>\n",
       "      <th>27</th>\n",
       "      <td>Длина горизонтального ствола</td>\n",
       "      <td>м</td>\n",
       "      <td>NaN</td>\n",
       "      <td>NaN</td>\n",
       "      <td>NaN</td>\n",
       "    </tr>\n",
       "    <tr>\n",
       "      <th>28</th>\n",
       "      <td>Пласт</td>\n",
       "      <td>NaN</td>\n",
       "      <td>C1rd-bb</td>\n",
       "      <td>NaN</td>\n",
       "      <td>NaN</td>\n",
       "    </tr>\n",
       "    <tr>\n",
       "      <th>29</th>\n",
       "      <td>Текущий режим</td>\n",
       "      <td>NaN</td>\n",
       "      <td>NaN</td>\n",
       "      <td>NaN</td>\n",
       "      <td>NaN</td>\n",
       "    </tr>\n",
       "    <tr>\n",
       "      <th>30</th>\n",
       "      <td>Забойное давление</td>\n",
       "      <td>кгс/см2</td>\n",
       "      <td>205.7</td>\n",
       "      <td>NaN</td>\n",
       "      <td>NaN</td>\n",
       "    </tr>\n",
       "    <tr>\n",
       "      <th>31</th>\n",
       "      <td>Статический уровень</td>\n",
       "      <td>м</td>\n",
       "      <td>NaN</td>\n",
       "      <td>NaN</td>\n",
       "      <td>NaN</td>\n",
       "    </tr>\n",
       "    <tr>\n",
       "      <th>32</th>\n",
       "      <td>Приемистость</td>\n",
       "      <td>м3/сут</td>\n",
       "      <td>19.180</td>\n",
       "      <td>NaN</td>\n",
       "      <td>NaN</td>\n",
       "    </tr>\n",
       "    <tr>\n",
       "      <th>33</th>\n",
       "      <td>Текущее состояние скважины</td>\n",
       "      <td>NaN</td>\n",
       "      <td>РАБ.</td>\n",
       "      <td>NaN</td>\n",
       "      <td>NaN</td>\n",
       "    </tr>\n",
       "    <tr>\n",
       "      <th>34</th>\n",
       "      <td>Обводненность объемная</td>\n",
       "      <td>%</td>\n",
       "      <td>NaN</td>\n",
       "      <td>NaN</td>\n",
       "      <td>NaN</td>\n",
       "    </tr>\n",
       "    <tr>\n",
       "      <th>35</th>\n",
       "      <td>Давление затрубное</td>\n",
       "      <td>кгс/см2</td>\n",
       "      <td>0.10</td>\n",
       "      <td>NaN</td>\n",
       "      <td>NaN</td>\n",
       "    </tr>\n",
       "    <tr>\n",
       "      <th>36</th>\n",
       "      <td>Пласт</td>\n",
       "      <td>NaN</td>\n",
       "      <td>NaN</td>\n",
       "      <td>NaN</td>\n",
       "      <td>NaN</td>\n",
       "    </tr>\n",
       "    <tr>\n",
       "      <th>37</th>\n",
       "      <td>Глубина ВДП, Нвд</td>\n",
       "      <td>м</td>\n",
       "      <td>1156.0</td>\n",
       "      <td>NaN</td>\n",
       "      <td>NaN</td>\n",
       "    </tr>\n",
       "    <tr>\n",
       "      <th>38</th>\n",
       "      <td>Удлинение на отметку ВДП</td>\n",
       "      <td>м</td>\n",
       "      <td>36.800</td>\n",
       "      <td>NaN</td>\n",
       "      <td>NaN</td>\n",
       "    </tr>\n",
       "    <tr>\n",
       "      <th>39</th>\n",
       "      <td>Абсолютная отметка ВНК</td>\n",
       "      <td>м</td>\n",
       "      <td>968.0</td>\n",
       "      <td>NaN</td>\n",
       "      <td>NaN</td>\n",
       "    </tr>\n",
       "    <tr>\n",
       "      <th>40</th>\n",
       "      <td>Абсолютная проницаемость</td>\n",
       "      <td>мД</td>\n",
       "      <td>NaN</td>\n",
       "      <td>NaN</td>\n",
       "      <td>NaN</td>\n",
       "    </tr>\n",
       "    <tr>\n",
       "      <th>41</th>\n",
       "      <td>Дата ГРП</td>\n",
       "      <td>NaN</td>\n",
       "      <td>NaN</td>\n",
       "      <td>NaN</td>\n",
       "      <td>NaN</td>\n",
       "    </tr>\n",
       "    <tr>\n",
       "      <th>42</th>\n",
       "      <td>Толщина пласта перфорированная</td>\n",
       "      <td>м</td>\n",
       "      <td>8.07</td>\n",
       "      <td>NaN</td>\n",
       "      <td>NaN</td>\n",
       "    </tr>\n",
       "    <tr>\n",
       "      <th>43</th>\n",
       "      <td>Толщина пласта эффективная</td>\n",
       "      <td>м</td>\n",
       "      <td>8.14</td>\n",
       "      <td>NaN</td>\n",
       "      <td>NaN</td>\n",
       "    </tr>\n",
       "    <tr>\n",
       "      <th>44</th>\n",
       "      <td>Пластовое давление начальное</td>\n",
       "      <td>кгс/см2</td>\n",
       "      <td>110.1</td>\n",
       "      <td>NaN</td>\n",
       "      <td>График истории</td>\n",
       "    </tr>\n",
       "    <tr>\n",
       "      <th>45</th>\n",
       "      <td>Пластовое давление текущее</td>\n",
       "      <td>кгс/см2</td>\n",
       "      <td>123.471</td>\n",
       "      <td>NaN</td>\n",
       "      <td>NaN</td>\n",
       "    </tr>\n",
       "    <tr>\n",
       "      <th>46</th>\n",
       "      <td>Пластовая температура</td>\n",
       "      <td>°C</td>\n",
       "      <td>18.0</td>\n",
       "      <td>NaN</td>\n",
       "      <td>NaN</td>\n",
       "    </tr>\n",
       "    <tr>\n",
       "      <th>47</th>\n",
       "      <td>Давление насыщения</td>\n",
       "      <td>кгс/см2</td>\n",
       "      <td>60.0</td>\n",
       "      <td>NaN</td>\n",
       "      <td>NaN</td>\n",
       "    </tr>\n",
       "    <tr>\n",
       "      <th>48</th>\n",
       "      <td>Cредневзвешенная пористость</td>\n",
       "      <td>доля ед.</td>\n",
       "      <td>0.257</td>\n",
       "      <td>NaN</td>\n",
       "      <td>NaN</td>\n",
       "    </tr>\n",
       "    <tr>\n",
       "      <th>49</th>\n",
       "      <td>Текущая водонасыщенность, Sw</td>\n",
       "      <td>NaN</td>\n",
       "      <td>0.740</td>\n",
       "      <td>NaN</td>\n",
       "      <td>NaN</td>\n",
       "    </tr>\n",
       "  </tbody>\n",
       "</table>\n",
       "</div>"
      ],
      "text/plain": [
       "                                        Заключение Unnamed: 1  \\\n",
       "0   по результатам гидродинамического исследования        NaN   \n",
       "1                 Исходные данные для исследования        NaN   \n",
       "2                                               ДО        NaN   \n",
       "3                                           Регион        NaN   \n",
       "4                                             ЦДНГ        NaN   \n",
       "5                                    Месторождение        NaN   \n",
       "6                                 Территория работ        NaN   \n",
       "7                                             Куст        NaN   \n",
       "8                                         Скважина        NaN   \n",
       "9                                 Вид исследования        NaN   \n",
       "10                               Цели исследования        NaN   \n",
       "11                           Дата получения заявки        NaN   \n",
       "12                          Вид ГДИС по технологии        NaN   \n",
       "13          Место установки измерительного прибора        NaN   \n",
       "14                      Тип измерительного прибора        NaN   \n",
       "15                 Дата начала исследования (план)        NaN   \n",
       "16                   Основные сведения по скважине        NaN   \n",
       "17                                 Характер работы        NaN   \n",
       "18                                    Тип скважины        NaN   \n",
       "19                             Способ эксплуатации        NaN   \n",
       "20                          Подземное оборудование        NaN   \n",
       "21                              Диаметр НКТ внутр.         мм   \n",
       "22                          Альтитуда стола ротора        м\\t   \n",
       "23                           Оборудование низа НКТ        NaN   \n",
       "24                           Внутренний радиус Э/К         мм   \n",
       "25                       Поверхностная температура         °C   \n",
       "26                                  Газовый фактор       м3/т   \n",
       "27                    Длина горизонтального ствола          м   \n",
       "28                                           Пласт        NaN   \n",
       "29                                   Текущий режим        NaN   \n",
       "30                               Забойное давление    кгс/см2   \n",
       "31                             Статический уровень          м   \n",
       "32                                    Приемистость     м3/сут   \n",
       "33                      Текущее состояние скважины        NaN   \n",
       "34                          Обводненность объемная          %   \n",
       "35                              Давление затрубное    кгс/см2   \n",
       "36                                           Пласт        NaN   \n",
       "37                                Глубина ВДП, Нвд          м   \n",
       "38                        Удлинение на отметку ВДП          м   \n",
       "39                          Абсолютная отметка ВНК          м   \n",
       "40                        Абсолютная проницаемость         мД   \n",
       "41                                        Дата ГРП        NaN   \n",
       "42                  Толщина пласта перфорированная          м   \n",
       "43                      Толщина пласта эффективная          м   \n",
       "44                    Пластовое давление начальное    кгс/см2   \n",
       "45                      Пластовое давление текущее    кгс/см2   \n",
       "46                           Пластовая температура         °C   \n",
       "47                              Давление насыщения    кгс/см2   \n",
       "48                     Cредневзвешенная пористость   доля ед.   \n",
       "49                    Текущая водонасыщенность, Sw        NaN   \n",
       "\n",
       "              Unnamed: 2  Unnamed: 3                    Unnamed: 4  \n",
       "0                    NaN         NaN    Билогарифмический график    \n",
       "1                    NaN         NaN                           NaN  \n",
       "2     ПАО АНК «Башнефть»         NaN                           NaN  \n",
       "3       БНД-Туймазанефть         NaN                           NaN  \n",
       "4               ТЦДНГ 03         NaN                           NaN  \n",
       "5           ТУЙМАЗИНСКОЕ         NaN                           NaN  \n",
       "6   ТУЙМАЗИНСКАЯ ПЛОЩАДЬ         NaN                           NaN  \n",
       "7                   1785         NaN                           NaN  \n",
       "8                   2568         NaN                           NaN  \n",
       "9                    КПД         NaN                           NaN  \n",
       "10   Рпл, kпрод, k, Skin         NaN                           NaN  \n",
       "11      08.12.2023 10:39         NaN                           NaN  \n",
       "12              КПД глуб         NaN                           NaN  \n",
       "13        Cтвол скважины         NaN                           NaN  \n",
       "14    Глубинный манометр         NaN                           NaN  \n",
       "15      08.12.2023 11:00         NaN                           NaN  \n",
       "16                   NaN         NaN                           NaN  \n",
       "17                   НАГ         NaN                           NaN  \n",
       "18     наклон-направлен.         NaN                           NaN  \n",
       "19                   NaN         NaN                           NaN  \n",
       "20                   NaN         NaN                           NaN  \n",
       "21                  62.0         NaN                           NaN  \n",
       "22                174.56         NaN  Полулогарифмический график    \n",
       "23                 Пакер         NaN                           NaN  \n",
       "24                  66.0         NaN                           NaN  \n",
       "25                   NaN         NaN                           NaN  \n",
       "26                 21.00         NaN                           NaN  \n",
       "27                   NaN         NaN                           NaN  \n",
       "28               C1rd-bb         NaN                           NaN  \n",
       "29                   NaN         NaN                           NaN  \n",
       "30                 205.7         NaN                           NaN  \n",
       "31                   NaN         NaN                           NaN  \n",
       "32                19.180         NaN                           NaN  \n",
       "33                  РАБ.         NaN                           NaN  \n",
       "34                   NaN         NaN                           NaN  \n",
       "35                  0.10         NaN                           NaN  \n",
       "36                   NaN         NaN                           NaN  \n",
       "37                1156.0         NaN                           NaN  \n",
       "38                36.800         NaN                           NaN  \n",
       "39                 968.0         NaN                           NaN  \n",
       "40                   NaN         NaN                           NaN  \n",
       "41                   NaN         NaN                           NaN  \n",
       "42                  8.07         NaN                           NaN  \n",
       "43                  8.14         NaN                           NaN  \n",
       "44                 110.1         NaN              График истории    \n",
       "45               123.471         NaN                           NaN  \n",
       "46                  18.0         NaN                           NaN  \n",
       "47                  60.0         NaN                           NaN  \n",
       "48                 0.257         NaN                           NaN  \n",
       "49                 0.740         NaN                           NaN  "
      ]
     },
     "execution_count": 163,
     "metadata": {},
     "output_type": "execute_result"
    }
   ],
   "source": [
    "df2[:50]"
   ]
  },
  {
   "cell_type": "code",
   "execution_count": null,
   "id": "bac26ce0",
   "metadata": {},
   "outputs": [],
   "source": []
  },
  {
   "cell_type": "code",
   "execution_count": null,
   "id": "8f5e5f13",
   "metadata": {},
   "outputs": [],
   "source": []
  },
  {
   "cell_type": "code",
   "execution_count": null,
   "id": "30243d09",
   "metadata": {},
   "outputs": [],
   "source": []
  },
  {
   "cell_type": "code",
   "execution_count": null,
   "id": "716fc0e2",
   "metadata": {},
   "outputs": [],
   "source": []
  },
  {
   "cell_type": "code",
   "execution_count": null,
   "id": "62317625",
   "metadata": {},
   "outputs": [],
   "source": []
  },
  {
   "cell_type": "code",
   "execution_count": null,
   "id": "8bb333b3",
   "metadata": {},
   "outputs": [],
   "source": []
  },
  {
   "cell_type": "code",
   "execution_count": null,
   "id": "97cc64ad",
   "metadata": {},
   "outputs": [],
   "source": []
  },
  {
   "cell_type": "code",
   "execution_count": null,
   "id": "d0f3e2a9",
   "metadata": {},
   "outputs": [],
   "source": []
  },
  {
   "cell_type": "code",
   "execution_count": null,
   "id": "46c94cf1",
   "metadata": {},
   "outputs": [],
   "source": []
  },
  {
   "cell_type": "code",
   "execution_count": null,
   "id": "ea704bb0",
   "metadata": {},
   "outputs": [],
   "source": []
  },
  {
   "cell_type": "code",
   "execution_count": null,
   "id": "21a96601",
   "metadata": {},
   "outputs": [],
   "source": []
  },
  {
   "cell_type": "markdown",
   "id": "66adfffb",
   "metadata": {},
   "source": [
    "# Backups"
   ]
  },
  {
   "cell_type": "code",
   "execution_count": null,
   "id": "3fb69574",
   "metadata": {},
   "outputs": [],
   "source": [
    "# Удалил значения по умолчанию\n",
    "@dataclass\n",
    "class DiffData:\n",
    "    wct: float = 100  # обводненность %\n",
    "    q: float = 20  # дебит жидкости преред остановкой, м3/сут\n",
    "    use_q: bool = False  # Коррекция расчетного дебита на измеренный дебит перед остановкой\n",
    "    \n",
    "    pw: float = 218.08  # Забойное давление перед остановкой, ат.\n",
    "    rho_oil: float = 800  # Плотность нефти, кг/м3\n",
    "    rho_water: float = 1000  # Плотность воды, кг/м3\n",
    "    rho_inj: float = 1050  # Плотность жидкости закачки (для КПД), кг/м3        \n",
    "    rho_liq: float = -1  # Плотность жидкости \n",
    "    c_liq: float = 1e-5  # сжимаемость жидкости 1/ат.\n",
    "    d_nkt_in: float = 0.062  # Внутренний диаметр НКТ, м\n",
    "    d_nkt_out: float = 0.073  # Внешний диаметр НКТ, м\n",
    "    d_tube_in: float = 0.132  # Внутренний диаметр эксплуатационной колонны, м\n",
    "    md_vdp: float = 1000  # Измеренная глубина ВДП, м\n",
    "    md_device: float = 1000  # Измеренная глубина установки прибора, м\n",
    "    md_bottom: float = 1500  # Измеренная глубина забоя, м\n",
    "    wbs_type: str = 'НКТ' # Место уровня жидкости. \n",
    "    # Варианты: ['Затрубное пространство', 'НКТ', 'НКТ+затруб', 'Сжимаемость']\n",
    "    research_type: str = 'КПД'  # Вид исследования. Варианты: ['КПД', 'КВД', 'КВУ']\n",
    "    use_trajectory: bool = True  # Учитывать траекторию ствола скважины\n",
    "    p_is_vdp: bool = True  # давление задано на глубину ВДП    \n",
    "    tube_area: float = 0\n",
    "\n",
    "    # траектория\n",
    "    df_inkl: type(pd.DataFrame()) = pd.DataFrame(data={'md': [-10_000, 0, 10_000], 'elong': [0, 0, 0]})\n",
    "    # df_inkl['tvd'] = df_inkl.md - df_inkl.elong\n",
    "\n",
    "    tvd_vdp: float = 1000  # md_vdp  # глубина ВДП по вертикали\n",
    "    tvd_device: float = 1000  # md_device  # глубина прибора по вертикали\n",
    "\n",
    "    p_gs = 100 # гидростат, при необходимости можно заменить функцией. Пока так как есть.\n",
    "    \n",
    "    #calculate_changing_wbs_time(self)\n",
    "    # data = pd.DataFrame()\n",
    "    changing_wbs_time: float = -1  # Время изменения типа ВСС"
   ]
  },
  {
   "cell_type": "code",
   "execution_count": null,
   "id": "75626853",
   "metadata": {},
   "outputs": [],
   "source": []
  },
  {
   "cell_type": "code",
   "execution_count": null,
   "id": "d9ffb413",
   "metadata": {},
   "outputs": [],
   "source": []
  },
  {
   "cell_type": "code",
   "execution_count": null,
   "id": "202752f8",
   "metadata": {},
   "outputs": [],
   "source": []
  },
  {
   "cell_type": "code",
   "execution_count": null,
   "id": "2c0cf335",
   "metadata": {},
   "outputs": [],
   "source": []
  },
  {
   "cell_type": "code",
   "execution_count": null,
   "id": "eea370ff",
   "metadata": {},
   "outputs": [],
   "source": []
  },
  {
   "cell_type": "code",
   "execution_count": null,
   "id": "5ebb4eac",
   "metadata": {},
   "outputs": [],
   "source": []
  },
  {
   "cell_type": "code",
   "execution_count": null,
   "id": "d76cfbda",
   "metadata": {},
   "outputs": [],
   "source": []
  },
  {
   "cell_type": "markdown",
   "id": "7f4c9f76",
   "metadata": {},
   "source": [
    "# Foot"
   ]
  }
 ],
 "metadata": {
  "kernelspec": {
   "display_name": "Python 3 (ipykernel)",
   "language": "python",
   "name": "python3"
  },
  "language_info": {
   "codemirror_mode": {
    "name": "ipython",
    "version": 3
   },
   "file_extension": ".py",
   "mimetype": "text/x-python",
   "name": "python",
   "nbconvert_exporter": "python",
   "pygments_lexer": "ipython3",
   "version": "3.9.13"
  }
 },
 "nbformat": 4,
 "nbformat_minor": 5
}
